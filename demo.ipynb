{
 "cells": [
  {
   "cell_type": "code",
   "execution_count": null,
   "metadata": {
    "id": "y6qORhRN2zzy"
   },
   "outputs": [],
   "source": [
    "import numpy as np\n",
    "import pandas as pd\n",
    "import tensorflow as tf\n",
    "import matplotlib.pyplot as plt\n",
    "\n",
    "from sklearn.datasets import load_iris, load_digits\n",
    "from sklearn.model_selection import train_test_split\n",
    "from sklearn.preprocessing import StandardScaler\n",
    "from sklearn.metrics import classification_report\n",
    "\n",
    "from tensor import Tensor\n",
    "from layers import Initializers, Dense\n",
    "from models import Sequential\n",
    "from optim import WarmUpAndDecayScheduler\n",
    "import losses, metrics"
   ]
  },
  {
   "cell_type": "markdown",
   "metadata": {
    "id": "5T_rmo45Y3_Y"
   },
   "source": [
    "![image](https://miro.medium.com/v2/resize:fit:1400/1*J-v2B6T9RKxdvwThtQ1NVg.png)"
   ]
  },
  {
   "cell_type": "markdown",
   "metadata": {
    "id": "VWPN3I0QK0zl"
   },
   "source": [
    "# Derivatives and Chain Rule"
   ]
  },
  {
   "cell_type": "markdown",
   "metadata": {
    "id": "gah5db2GyTWj"
   },
   "source": [
    "$$\\frac{d}{dx} f(x) = \\lim_{{h \\to 0}} \\frac{f(x+h) - f(x)}{h}$$\n",
    "\n",
    "👉 Indicate that how $f(x)$ changes if we keep increasing $x$ a little bit $h$?:\n",
    "- If the result > 0, $f(x)$ will go up if we keep doing that ⬆️.\n",
    "- If the result < 0, $f(x)$ will go down if we keep doing that ⬇️.\n"
   ]
  },
  {
   "cell_type": "code",
   "execution_count": null,
   "metadata": {
    "colab": {
     "base_uri": "https://localhost:8080/",
     "height": 430
    },
    "id": "EHiw1bfL2zz1",
    "outputId": "2862cac4-d0bf-4dd8-d22c-1940f59c9c5c"
   },
   "outputs": [
    {
     "data": {
      "image/png": "[encoded data removed]",
      "text/plain": [
       "<Figure size 640x480 with 1 Axes>"
      ]
     },
     "metadata": {},
     "output_type": "display_data"
    }
   ],
   "source": [
    "def cubic_func(x):\n",
    "    return 2*x**3 + 3*x**2 - 3*x\n",
    "\n",
    "xs = np.arange(-2, 1, 0.1)\n",
    "ys = cubic_func(xs)\n",
    "plt.plot(xs, ys)\n",
    "plt.show()"
   ]
  },
  {
   "cell_type": "code",
   "execution_count": null,
   "metadata": {
    "colab": {
     "base_uri": "https://localhost:8080/"
    },
    "id": "pbHaoeM62zz3",
    "outputId": "e94cda64-9561-44b6-88cb-78c186782764"
   },
   "outputs": [
    {
     "name": "stdout",
     "output_type": "stream",
     "text": [
      "df/dx = 8.9999999 > 0, meaning that if we keep increasing x by small amount (follow derivative's direction), f(x) will increase.\n",
      "=> Based on this idea, Gradient Descent will update its x (weights) in the opposite direction to minimize its f(x) (loss function)\n"
     ]
    }
   ],
   "source": [
    "h = 1e-8\n",
    "x = 1.0\n",
    "dx = (cubic_func(x + h) - cubic_func(x)) / h\n",
    "print(\n",
    "    f\"df/dx = {dx:.7f} {'>' if dx > 0 else '<'} 0, meaning that if we keep increasing x by small\"\n",
    "    f\" amount (follow derivative's direction), f(x) will {'increase' if dx > 0 else 'decrease'}.\"\n",
    "    f\"\\n=> Based on this idea, Gradient Descent will update its x (weights)\"\n",
    "    f\" in the opposite direction to minimize its f(x) (loss function)\"\n",
    ")"
   ]
  },
  {
   "cell_type": "markdown",
   "metadata": {
    "id": "xgCtAYHLKZ3i"
   },
   "source": [
    "<table>\n",
    "  <tr>\n",
    "    <td>\n",
    "\n",
    "But for example, given $y = (3x + 2)^5$, how to calculate $\\frac{dy}{dx}$ 🤔?\n",
    "\n",
    "1. First, let's simplify $y$ by using $u = 3x + 2 \\rightarrow y = u^5$.\n",
    "\n",
    "2. Now, **Chain rule** said: $\\frac{dy}{dx} = \\frac{dy}{du} \\cdot \\frac{du}{dx}$.\n",
    "\n",
    "3. It's quite simple to calculate $\\frac{dy}{du} = 5u^4$ and $\\frac{du}{dx} = 3$.\n",
    "\n",
    "4. Therefore: $\\frac{dy}{dx} = 5u^4 \\cdot 3 = 15(3x + 2)^4$\n",
    "\n",
    "5. The same idea is applied to calculate $\\frac{dLoss}{dweight}$ 👉\n",
    "\n",
    "    </td>\n",
    "    <td>\n",
    "        <img src=\"https://user-images.githubusercontent.com/50880271/266297834-4d943e88-2f27-4fcf-8388-45c2855ea663.png\" />\n",
    "    </td>\n",
    "  </tr>\n",
    "</table>\n",
    "\n",
    "[As put by George F. Simmons](https://en.wikipedia.org/wiki/Chain_rule): \"If a car travels twice as fast as a bicycle and the bicycle is four times as fast as a walking man, then the car travels 2 × 4 = 8 times as fast as the man.\""
   ]
  },
  {
   "cell_type": "markdown",
   "metadata": {
    "id": "K3hM1KmK2zz5"
   },
   "source": [
    "# Auto Differentiation with `Tensor` Class"
   ]
  },
  {
   "cell_type": "markdown",
   "metadata": {},
   "source": [
    "### Backward Testing"
   ]
  },
  {
   "cell_type": "code",
   "execution_count": null,
   "metadata": {
    "colab": {
     "base_uri": "https://localhost:8080/",
     "height": 301
    },
    "id": "4vpGCHmS2z0C",
    "outputId": "fa6b137a-7a39-4dc6-827b-311a4009f6dc"
   },
   "outputs": [
    {
     "data": {
      "image/svg+xml": [
       "<?xml version=\"1.0\" encoding=\"UTF-8\" standalone=\"no\"?>\n",
       "<!DOCTYPE svg PUBLIC \"-//W3C//DTD SVG 1.1//EN\"\n",
       " \"http://www.w3.org/Graphics/SVG/1.1/DTD/svg11.dtd\">\n",
       "<!-- Generated by graphviz version 2.43.0 (0)\n",
       " -->\n",
       "<!-- Title: %3 Pages: 1 -->\n",
       "<svg width=\"809pt\" height=\"210pt\"\n",
       " viewBox=\"0.00 0.00 809.00 210.00\" xmlns=\"http://www.w3.org/2000/svg\" xmlns:xlink=\"http://www.w3.org/1999/xlink\">\n",
       "<g id=\"graph0\" class=\"graph\" transform=\"scale(1 1) rotate(0) translate(4 206)\">\n",
       "<title>%3</title>\n",
       "<polygon fill=\"white\" stroke=\"transparent\" points=\"-4,4 -4,-206 805,-206 805,4 -4,4\"/>\n",
       "<!-- 138309533262096 -->\n",
       "<g id=\"node1\" class=\"node\">\n",
       "<title>138309533262096</title>\n",
       "<polygon fill=\"none\" stroke=\"black\" points=\"233,-132.5 233,-201.5 340,-201.5 340,-132.5 233,-132.5\"/>\n",
       "<text text-anchor=\"middle\" x=\"286.5\" y=\"-186.3\" font-family=\"Times,serif\" font-size=\"14.00\">c</text>\n",
       "<polyline fill=\"none\" stroke=\"black\" points=\"233,-178.5 340,-178.5 \"/>\n",
       "<text text-anchor=\"middle\" x=\"286.5\" y=\"-163.3\" font-family=\"Times,serif\" font-size=\"14.00\">Data: 10.000</text>\n",
       "<polyline fill=\"none\" stroke=\"black\" points=\"233,-155.5 340,-155.5 \"/>\n",
       "<text text-anchor=\"middle\" x=\"286.5\" y=\"-140.3\" font-family=\"Times,serif\" font-size=\"14.00\">Gradient: &#45;2.000</text>\n",
       "</g>\n",
       "<!-- 138309533258544+ -->\n",
       "<g id=\"node7\" class=\"node\">\n",
       "<title>138309533258544+</title>\n",
       "<ellipse fill=\"none\" stroke=\"black\" cx=\"403\" cy=\"-123\" rx=\"27\" ry=\"18\"/>\n",
       "<text text-anchor=\"middle\" x=\"403\" y=\"-119.3\" font-family=\"Times,serif\" font-size=\"14.00\">+</text>\n",
       "</g>\n",
       "<!-- 138309533262096&#45;&gt;138309533258544+ -->\n",
       "<g id=\"edge5\" class=\"edge\">\n",
       "<title>138309533262096&#45;&gt;138309533258544+</title>\n",
       "<path fill=\"none\" stroke=\"black\" d=\"M340.06,-146.8C350.16,-142.92 360.46,-138.96 369.68,-135.42\"/>\n",
       "<polygon fill=\"black\" stroke=\"black\" points=\"371.13,-138.61 379.21,-131.76 368.62,-132.08 371.13,-138.61\"/>\n",
       "</g>\n",
       "<!-- 138309533258400 -->\n",
       "<g id=\"node2\" class=\"node\">\n",
       "<title>138309533258400</title>\n",
       "<polygon fill=\"none\" stroke=\"black\" points=\"0,-88.5 0,-157.5 107,-157.5 107,-88.5 0,-88.5\"/>\n",
       "<text text-anchor=\"middle\" x=\"53.5\" y=\"-142.3\" font-family=\"Times,serif\" font-size=\"14.00\">b</text>\n",
       "<polyline fill=\"none\" stroke=\"black\" points=\"0,-134.5 107,-134.5 \"/>\n",
       "<text text-anchor=\"middle\" x=\"53.5\" y=\"-119.3\" font-family=\"Times,serif\" font-size=\"14.00\">Data: &#45;3.000</text>\n",
       "<polyline fill=\"none\" stroke=\"black\" points=\"0,-111.5 107,-111.5 \"/>\n",
       "<text text-anchor=\"middle\" x=\"53.5\" y=\"-96.3\" font-family=\"Times,serif\" font-size=\"14.00\">Gradient: &#45;4.000</text>\n",
       "</g>\n",
       "<!-- 138309533255616* -->\n",
       "<g id=\"node5\" class=\"node\">\n",
       "<title>138309533255616*</title>\n",
       "<ellipse fill=\"none\" stroke=\"black\" cx=\"170\" cy=\"-79\" rx=\"27\" ry=\"18\"/>\n",
       "<text text-anchor=\"middle\" x=\"170\" y=\"-75.3\" font-family=\"Times,serif\" font-size=\"14.00\">*</text>\n",
       "</g>\n",
       "<!-- 138309533258400&#45;&gt;138309533255616* -->\n",
       "<g id=\"edge8\" class=\"edge\">\n",
       "<title>138309533258400&#45;&gt;138309533255616*</title>\n",
       "<path fill=\"none\" stroke=\"black\" d=\"M107.06,-102.8C117.16,-98.92 127.46,-94.96 136.68,-91.42\"/>\n",
       "<polygon fill=\"black\" stroke=\"black\" points=\"138.13,-94.61 146.21,-87.76 135.62,-88.08 138.13,-94.61\"/>\n",
       "</g>\n",
       "<!-- 138309533256144 -->\n",
       "<g id=\"node3\" class=\"node\">\n",
       "<title>138309533256144</title>\n",
       "<polygon fill=\"none\" stroke=\"black\" points=\"2.5,-0.5 2.5,-69.5 104.5,-69.5 104.5,-0.5 2.5,-0.5\"/>\n",
       "<text text-anchor=\"middle\" x=\"53.5\" y=\"-54.3\" font-family=\"Times,serif\" font-size=\"14.00\">a</text>\n",
       "<polyline fill=\"none\" stroke=\"black\" points=\"2.5,-46.5 104.5,-46.5 \"/>\n",
       "<text text-anchor=\"middle\" x=\"53.5\" y=\"-31.3\" font-family=\"Times,serif\" font-size=\"14.00\">Data: 2.000</text>\n",
       "<polyline fill=\"none\" stroke=\"black\" points=\"2.5,-23.5 104.5,-23.5 \"/>\n",
       "<text text-anchor=\"middle\" x=\"53.5\" y=\"-8.3\" font-family=\"Times,serif\" font-size=\"14.00\">Gradient: 6.000</text>\n",
       "</g>\n",
       "<!-- 138309533256144&#45;&gt;138309533255616* -->\n",
       "<g id=\"edge6\" class=\"edge\">\n",
       "<title>138309533256144&#45;&gt;138309533255616*</title>\n",
       "<path fill=\"none\" stroke=\"black\" d=\"M104.72,-54.3C115.63,-58.49 126.88,-62.81 136.86,-66.65\"/>\n",
       "<polygon fill=\"black\" stroke=\"black\" points=\"135.77,-69.98 146.36,-70.3 138.28,-63.45 135.77,-69.98\"/>\n",
       "</g>\n",
       "<!-- 138309533255616 -->\n",
       "<g id=\"node4\" class=\"node\">\n",
       "<title>138309533255616</title>\n",
       "<polygon fill=\"none\" stroke=\"black\" points=\"233,-44.5 233,-113.5 340,-113.5 340,-44.5 233,-44.5\"/>\n",
       "<text text-anchor=\"middle\" x=\"286.5\" y=\"-98.3\" font-family=\"Times,serif\" font-size=\"14.00\">d</text>\n",
       "<polyline fill=\"none\" stroke=\"black\" points=\"233,-90.5 340,-90.5 \"/>\n",
       "<text text-anchor=\"middle\" x=\"286.5\" y=\"-75.3\" font-family=\"Times,serif\" font-size=\"14.00\">Data: &#45;6.000</text>\n",
       "<polyline fill=\"none\" stroke=\"black\" points=\"233,-67.5 340,-67.5 \"/>\n",
       "<text text-anchor=\"middle\" x=\"286.5\" y=\"-52.3\" font-family=\"Times,serif\" font-size=\"14.00\">Gradient: &#45;2.000</text>\n",
       "</g>\n",
       "<!-- 138309533255616&#45;&gt;138309533258544+ -->\n",
       "<g id=\"edge4\" class=\"edge\">\n",
       "<title>138309533255616&#45;&gt;138309533258544+</title>\n",
       "<path fill=\"none\" stroke=\"black\" d=\"M340.06,-99.2C350.16,-103.08 360.46,-107.04 369.68,-110.58\"/>\n",
       "<polygon fill=\"black\" stroke=\"black\" points=\"368.62,-113.92 379.21,-114.24 371.13,-107.39 368.62,-113.92\"/>\n",
       "</g>\n",
       "<!-- 138309533255616*&#45;&gt;138309533255616 -->\n",
       "<g id=\"edge1\" class=\"edge\">\n",
       "<title>138309533255616*&#45;&gt;138309533255616</title>\n",
       "<path fill=\"none\" stroke=\"black\" d=\"M197.27,-79C204.94,-79 213.68,-79 222.61,-79\"/>\n",
       "<polygon fill=\"black\" stroke=\"black\" points=\"222.71,-82.5 232.71,-79 222.71,-75.5 222.71,-82.5\"/>\n",
       "</g>\n",
       "<!-- 138309533258544 -->\n",
       "<g id=\"node6\" class=\"node\">\n",
       "<title>138309533258544</title>\n",
       "<polygon fill=\"none\" stroke=\"black\" points=\"466,-88.5 466,-157.5 573,-157.5 573,-88.5 466,-88.5\"/>\n",
       "<text text-anchor=\"middle\" x=\"519.5\" y=\"-142.3\" font-family=\"Times,serif\" font-size=\"14.00\">e</text>\n",
       "<polyline fill=\"none\" stroke=\"black\" points=\"466,-134.5 573,-134.5 \"/>\n",
       "<text text-anchor=\"middle\" x=\"519.5\" y=\"-119.3\" font-family=\"Times,serif\" font-size=\"14.00\">Data: 4.000</text>\n",
       "<polyline fill=\"none\" stroke=\"black\" points=\"466,-111.5 573,-111.5 \"/>\n",
       "<text text-anchor=\"middle\" x=\"519.5\" y=\"-96.3\" font-family=\"Times,serif\" font-size=\"14.00\">Gradient: &#45;2.000</text>\n",
       "</g>\n",
       "<!-- 138309533264304* -->\n",
       "<g id=\"node10\" class=\"node\">\n",
       "<title>138309533264304*</title>\n",
       "<ellipse fill=\"none\" stroke=\"black\" cx=\"636\" cy=\"-79\" rx=\"27\" ry=\"18\"/>\n",
       "<text text-anchor=\"middle\" x=\"636\" y=\"-75.3\" font-family=\"Times,serif\" font-size=\"14.00\">*</text>\n",
       "</g>\n",
       "<!-- 138309533258544&#45;&gt;138309533264304* -->\n",
       "<g id=\"edge7\" class=\"edge\">\n",
       "<title>138309533258544&#45;&gt;138309533264304*</title>\n",
       "<path fill=\"none\" stroke=\"black\" d=\"M573.06,-102.8C583.16,-98.92 593.46,-94.96 602.68,-91.42\"/>\n",
       "<polygon fill=\"black\" stroke=\"black\" points=\"604.13,-94.61 612.21,-87.76 601.62,-88.08 604.13,-94.61\"/>\n",
       "</g>\n",
       "<!-- 138309533258544+&#45;&gt;138309533258544 -->\n",
       "<g id=\"edge2\" class=\"edge\">\n",
       "<title>138309533258544+&#45;&gt;138309533258544</title>\n",
       "<path fill=\"none\" stroke=\"black\" d=\"M430.27,-123C437.94,-123 446.68,-123 455.61,-123\"/>\n",
       "<polygon fill=\"black\" stroke=\"black\" points=\"455.71,-126.5 465.71,-123 455.71,-119.5 455.71,-126.5\"/>\n",
       "</g>\n",
       "<!-- 138309533257920 -->\n",
       "<g id=\"node8\" class=\"node\">\n",
       "<title>138309533257920</title>\n",
       "<polygon fill=\"none\" stroke=\"black\" points=\"468.5,-0.5 468.5,-69.5 570.5,-69.5 570.5,-0.5 468.5,-0.5\"/>\n",
       "<text text-anchor=\"middle\" x=\"519.5\" y=\"-54.3\" font-family=\"Times,serif\" font-size=\"14.00\">f</text>\n",
       "<polyline fill=\"none\" stroke=\"black\" points=\"468.5,-46.5 570.5,-46.5 \"/>\n",
       "<text text-anchor=\"middle\" x=\"519.5\" y=\"-31.3\" font-family=\"Times,serif\" font-size=\"14.00\">Data: &#45;2.000</text>\n",
       "<polyline fill=\"none\" stroke=\"black\" points=\"468.5,-23.5 570.5,-23.5 \"/>\n",
       "<text text-anchor=\"middle\" x=\"519.5\" y=\"-8.3\" font-family=\"Times,serif\" font-size=\"14.00\">Gradient: 4.000</text>\n",
       "</g>\n",
       "<!-- 138309533257920&#45;&gt;138309533264304* -->\n",
       "<g id=\"edge9\" class=\"edge\">\n",
       "<title>138309533257920&#45;&gt;138309533264304*</title>\n",
       "<path fill=\"none\" stroke=\"black\" d=\"M570.72,-54.3C581.63,-58.49 592.88,-62.81 602.86,-66.65\"/>\n",
       "<polygon fill=\"black\" stroke=\"black\" points=\"601.77,-69.98 612.36,-70.3 604.28,-63.45 601.77,-69.98\"/>\n",
       "</g>\n",
       "<!-- 138309533264304 -->\n",
       "<g id=\"node9\" class=\"node\">\n",
       "<title>138309533264304</title>\n",
       "<polygon fill=\"none\" stroke=\"black\" points=\"699,-44.5 699,-113.5 801,-113.5 801,-44.5 699,-44.5\"/>\n",
       "<text text-anchor=\"middle\" x=\"750\" y=\"-98.3\" font-family=\"Times,serif\" font-size=\"14.00\">L</text>\n",
       "<polyline fill=\"none\" stroke=\"black\" points=\"699,-90.5 801,-90.5 \"/>\n",
       "<text text-anchor=\"middle\" x=\"750\" y=\"-75.3\" font-family=\"Times,serif\" font-size=\"14.00\">Data: &#45;8.000</text>\n",
       "<polyline fill=\"none\" stroke=\"black\" points=\"699,-67.5 801,-67.5 \"/>\n",
       "<text text-anchor=\"middle\" x=\"750\" y=\"-52.3\" font-family=\"Times,serif\" font-size=\"14.00\">Gradient: 1.000</text>\n",
       "</g>\n",
       "<!-- 138309533264304*&#45;&gt;138309533264304 -->\n",
       "<g id=\"edge3\" class=\"edge\">\n",
       "<title>138309533264304*&#45;&gt;138309533264304</title>\n",
       "<path fill=\"none\" stroke=\"black\" d=\"M663.26,-79C670.96,-79 679.73,-79 688.64,-79\"/>\n",
       "<polygon fill=\"black\" stroke=\"black\" points=\"688.71,-82.5 698.71,-79 688.71,-75.5 688.71,-82.5\"/>\n",
       "</g>\n",
       "</g>\n",
       "</svg>\n"
      ],
      "text/plain": [
       "<graphviz.graphs.Digraph at 0x7dcab29963b0>"
      ]
     },
     "execution_count": 6,
     "metadata": {},
     "output_type": "execute_result"
    }
   ],
   "source": [
    "# L = e * f\n",
    "# => dL/de = (L(x + h) - L(x)) / h\n",
    "#          = ((e + h) * f - e * f) / h\n",
    "#          = (e * f + h * f - e * f) / h\n",
    "#          = (h * f) / h\n",
    "#          = f = -2.0\n",
    "# => dL/df = (L(x + h) - L(x)) / h\n",
    "#          = (e * (f + h) - e * f) / h\n",
    "#          = (e * f + e * h - e * f) / h\n",
    "#          = e = 4.0\n",
    "\n",
    "# L = (c + d) * f\n",
    "# => dL/dc = dL/dd = (L(x + h) - L(x)) / h\n",
    "#                  = ((c + d + h) * f - (c + d) * f) / h\n",
    "#                  = (c * f + d * f + h * f - c * f - d * f) / h\n",
    "#                  = (h * f) / h\n",
    "#                  = f = -2.0\n",
    "#\n",
    "# Chain rule:\n",
    "# e = c + d => de/dc = de/dd = (e(x + h) - e(x)) / h\n",
    "#                            = ((c + d + h) - (c + d)) / h\n",
    "#                            = h / h = 1.0\n",
    "# => dL/dc = dL/de * de/dc = f * 1.0 = -2.0\n",
    "# => dL/dd = dL/de * de/dd = f * 1.0 = -2.0\n",
    "\n",
    "# L = (a * b + c) * f\n",
    "# => dL/da = (L(x + h) - L(x)) / h\n",
    "#          = ((a + h) * b + c) * f - (a * b + c) * f / h\n",
    "#          = (a * b + h * b + c) * f - (a * b + c) * f / h\n",
    "#          = (h * b) * f / h\n",
    "#          = b * f = -3.0 * -2.0 = 6.0\n",
    "# => dL/db = (L(x + h) - L(x)) / h\n",
    "#          = (a * (b + h) + c) * f - (a * b + c) * f / h\n",
    "#          = (a * b + a * h + c) * f - (a * b + c) * f / h\n",
    "#          = (a * h) * f / h\n",
    "#          = a * f = 2.0 * -2.0 = -4.0\n",
    "#\n",
    "# Chain rule:\n",
    "# d = a * b => dd/da = (d(x + h) - d(x)) / h\n",
    "#                    = ((a + h) * b - a * b) / h\n",
    "#                    = (a * b + h * b - a * b) / h\n",
    "#                    = b = -3.0\n",
    "#           => dd/db = (d(x + h) - d(x)) / h\n",
    "#                    = (a * (b + h) - a * b) / h\n",
    "#                    = (a * b + a * h - a * b) / h\n",
    "#                    = a = 2.0\n",
    "# dL/da = dL/dd * dd/da = f * b = -2.0 * -3.0 = 6.0\n",
    "# dL/db = dL/dd * dd/db = f * a = -2.0 * 2.0 = -4.0\n",
    "\n",
    "a = Tensor(2.0, label='a')\n",
    "b = Tensor(-3.0, label='b')\n",
    "c = Tensor(10.0, label='c')\n",
    "\n",
    "d = a * b; d.label = 'd'\n",
    "e = c + d; e.label = 'e'\n",
    "f = Tensor(-2.0, label='f')\n",
    "L = e * f; L.label = 'L'\n",
    "\n",
    "L.backward() # L = (a * b + c) * f\n",
    "L.draw_computation_graph()"
   ]
  },
  {
   "cell_type": "code",
   "execution_count": null,
   "metadata": {
    "colab": {
     "base_uri": "https://localhost:8080/",
     "height": 497
    },
    "id": "kzjYo_dvZTdV",
    "outputId": "3ed026e0-1505-4a37-b91c-417fcf00eed5"
   },
   "outputs": [
    {
     "data": {
      "image/svg+xml": [
       "<?xml version=\"1.0\" encoding=\"UTF-8\" standalone=\"no\"?>\n",
       "<!DOCTYPE svg PUBLIC \"-//W3C//DTD SVG 1.1//EN\"\n",
       " \"http://www.w3.org/Graphics/SVG/1.1/DTD/svg11.dtd\">\n",
       "<!-- Generated by graphviz version 2.43.0 (0)\n",
       " -->\n",
       "<!-- Title: %3 Pages: 1 -->\n",
       "<svg width=\"1089pt\" height=\"342pt\"\n",
       " viewBox=\"0.00 0.00 1089.29 342.00\" xmlns=\"http://www.w3.org/2000/svg\" xmlns:xlink=\"http://www.w3.org/1999/xlink\">\n",
       "<g id=\"graph0\" class=\"graph\" transform=\"scale(1 1) rotate(0) translate(4 338)\">\n",
       "<title>%3</title>\n",
       "<polygon fill=\"white\" stroke=\"transparent\" points=\"-4,4 -4,-338 1085.29,-338 1085.29,4 -4,4\"/>\n",
       "<!-- 138309533256192 -->\n",
       "<g id=\"node1\" class=\"node\">\n",
       "<title>138309533256192</title>\n",
       "<polygon fill=\"none\" stroke=\"black\" points=\"461,-227.5 461,-296.5 563,-296.5 563,-227.5 461,-227.5\"/>\n",
       "<text text-anchor=\"middle\" x=\"512\" y=\"-281.3\" font-family=\"Times,serif\" font-size=\"14.00\">b</text>\n",
       "<polyline fill=\"none\" stroke=\"black\" points=\"461,-273.5 563,-273.5 \"/>\n",
       "<text text-anchor=\"middle\" x=\"512\" y=\"-258.3\" font-family=\"Times,serif\" font-size=\"14.00\">Data: 5.000</text>\n",
       "<polyline fill=\"none\" stroke=\"black\" points=\"461,-250.5 563,-250.5 \"/>\n",
       "<text text-anchor=\"middle\" x=\"512\" y=\"-235.3\" font-family=\"Times,serif\" font-size=\"14.00\">Gradient: 0.250</text>\n",
       "</g>\n",
       "<!-- 138309533259696+ -->\n",
       "<g id=\"node13\" class=\"node\">\n",
       "<title>138309533259696+</title>\n",
       "<ellipse fill=\"none\" stroke=\"black\" cx=\"626\" cy=\"-214\" rx=\"27\" ry=\"18\"/>\n",
       "<text text-anchor=\"middle\" x=\"626\" y=\"-210.3\" font-family=\"Times,serif\" font-size=\"14.00\">+</text>\n",
       "</g>\n",
       "<!-- 138309533256192&#45;&gt;138309533259696+ -->\n",
       "<g id=\"edge7\" class=\"edge\">\n",
       "<title>138309533256192&#45;&gt;138309533259696+</title>\n",
       "<path fill=\"none\" stroke=\"black\" d=\"M563.1,-240.53C573.48,-236.08 584.13,-231.52 593.6,-227.46\"/>\n",
       "<polygon fill=\"black\" stroke=\"black\" points=\"595.18,-230.59 602.99,-223.43 592.42,-224.16 595.18,-230.59\"/>\n",
       "</g>\n",
       "<!-- 138309533256096 -->\n",
       "<g id=\"node2\" class=\"node\">\n",
       "<title>138309533256096</title>\n",
       "<polygon fill=\"none\" stroke=\"black\" points=\"2.5,-264.5 2.5,-333.5 104.5,-333.5 104.5,-264.5 2.5,-264.5\"/>\n",
       "<text text-anchor=\"middle\" x=\"53.5\" y=\"-318.3\" font-family=\"Times,serif\" font-size=\"14.00\">w2</text>\n",
       "<polyline fill=\"none\" stroke=\"black\" points=\"2.5,-310.5 104.5,-310.5 \"/>\n",
       "<text text-anchor=\"middle\" x=\"53.5\" y=\"-295.3\" font-family=\"Times,serif\" font-size=\"14.00\">Data: 1.000</text>\n",
       "<polyline fill=\"none\" stroke=\"black\" points=\"2.5,-287.5 104.5,-287.5 \"/>\n",
       "<text text-anchor=\"middle\" x=\"53.5\" y=\"-272.3\" font-family=\"Times,serif\" font-size=\"14.00\">Gradient: 0.750</text>\n",
       "</g>\n",
       "<!-- 138309533256384* -->\n",
       "<g id=\"node5\" class=\"node\">\n",
       "<title>138309533256384*</title>\n",
       "<ellipse fill=\"none\" stroke=\"black\" cx=\"170\" cy=\"-211\" rx=\"27\" ry=\"18\"/>\n",
       "<text text-anchor=\"middle\" x=\"170\" y=\"-207.3\" font-family=\"Times,serif\" font-size=\"14.00\">*</text>\n",
       "</g>\n",
       "<!-- 138309533256096&#45;&gt;138309533256384* -->\n",
       "<g id=\"edge14\" class=\"edge\">\n",
       "<title>138309533256096&#45;&gt;138309533256384*</title>\n",
       "<path fill=\"none\" stroke=\"black\" d=\"M99.42,-264.47C114.43,-252.94 130.63,-240.49 143.61,-230.51\"/>\n",
       "<polygon fill=\"black\" stroke=\"black\" points=\"145.84,-233.21 151.64,-224.35 141.57,-227.66 145.84,-233.21\"/>\n",
       "</g>\n",
       "<!-- 138309533255664 -->\n",
       "<g id=\"node3\" class=\"node\">\n",
       "<title>138309533255664</title>\n",
       "<polygon fill=\"none\" stroke=\"black\" points=\"2.5,-176.5 2.5,-245.5 104.5,-245.5 104.5,-176.5 2.5,-176.5\"/>\n",
       "<text text-anchor=\"middle\" x=\"53.5\" y=\"-230.3\" font-family=\"Times,serif\" font-size=\"14.00\">x2</text>\n",
       "<polyline fill=\"none\" stroke=\"black\" points=\"2.5,-222.5 104.5,-222.5 \"/>\n",
       "<text text-anchor=\"middle\" x=\"53.5\" y=\"-207.3\" font-family=\"Times,serif\" font-size=\"14.00\">Data: 3.000</text>\n",
       "<polyline fill=\"none\" stroke=\"black\" points=\"2.5,-199.5 104.5,-199.5 \"/>\n",
       "<text text-anchor=\"middle\" x=\"53.5\" y=\"-184.3\" font-family=\"Times,serif\" font-size=\"14.00\">Gradient: 0.250</text>\n",
       "</g>\n",
       "<!-- 138309533255664&#45;&gt;138309533256384* -->\n",
       "<g id=\"edge9\" class=\"edge\">\n",
       "<title>138309533255664&#45;&gt;138309533256384*</title>\n",
       "<path fill=\"none\" stroke=\"black\" d=\"M104.72,-211C114.14,-211 123.81,-211 132.7,-211\"/>\n",
       "<polygon fill=\"black\" stroke=\"black\" points=\"132.71,-214.5 142.71,-211 132.71,-207.5 132.71,-214.5\"/>\n",
       "</g>\n",
       "<!-- 138309533256384 -->\n",
       "<g id=\"node4\" class=\"node\">\n",
       "<title>138309533256384</title>\n",
       "<polygon fill=\"none\" stroke=\"black\" points=\"233,-176.5 233,-245.5 335,-245.5 335,-176.5 233,-176.5\"/>\n",
       "<text text-anchor=\"middle\" x=\"284\" y=\"-230.3\" font-family=\"Times,serif\" font-size=\"14.00\">x2 * w2</text>\n",
       "<polyline fill=\"none\" stroke=\"black\" points=\"233,-222.5 335,-222.5 \"/>\n",
       "<text text-anchor=\"middle\" x=\"284\" y=\"-207.3\" font-family=\"Times,serif\" font-size=\"14.00\">Data: 3.000</text>\n",
       "<polyline fill=\"none\" stroke=\"black\" points=\"233,-199.5 335,-199.5 \"/>\n",
       "<text text-anchor=\"middle\" x=\"284\" y=\"-184.3\" font-family=\"Times,serif\" font-size=\"14.00\">Gradient: 0.250</text>\n",
       "</g>\n",
       "<!-- 138309533255136+ -->\n",
       "<g id=\"node11\" class=\"node\">\n",
       "<title>138309533255136+</title>\n",
       "<ellipse fill=\"none\" stroke=\"black\" cx=\"398\" cy=\"-167\" rx=\"27\" ry=\"18\"/>\n",
       "<text text-anchor=\"middle\" x=\"398\" y=\"-163.3\" font-family=\"Times,serif\" font-size=\"14.00\">+</text>\n",
       "</g>\n",
       "<!-- 138309533256384&#45;&gt;138309533255136+ -->\n",
       "<g id=\"edge8\" class=\"edge\">\n",
       "<title>138309533256384&#45;&gt;138309533255136+</title>\n",
       "<path fill=\"none\" stroke=\"black\" d=\"M335.1,-191.32C345.2,-187.35 355.55,-183.28 364.83,-179.64\"/>\n",
       "<polygon fill=\"black\" stroke=\"black\" points=\"366.39,-182.79 374.42,-175.87 363.83,-176.27 366.39,-182.79\"/>\n",
       "</g>\n",
       "<!-- 138309533256384*&#45;&gt;138309533256384 -->\n",
       "<g id=\"edge1\" class=\"edge\">\n",
       "<title>138309533256384*&#45;&gt;138309533256384</title>\n",
       "<path fill=\"none\" stroke=\"black\" d=\"M197.26,-211C204.96,-211 213.73,-211 222.64,-211\"/>\n",
       "<polygon fill=\"black\" stroke=\"black\" points=\"222.71,-214.5 232.71,-211 222.71,-207.5 222.71,-214.5\"/>\n",
       "</g>\n",
       "<!-- 138309533261952 -->\n",
       "<g id=\"node6\" class=\"node\">\n",
       "<title>138309533261952</title>\n",
       "<polygon fill=\"none\" stroke=\"black\" points=\"0,-88.5 0,-157.5 107,-157.5 107,-88.5 0,-88.5\"/>\n",
       "<text text-anchor=\"middle\" x=\"53.5\" y=\"-142.3\" font-family=\"Times,serif\" font-size=\"14.00\">x1</text>\n",
       "<polyline fill=\"none\" stroke=\"black\" points=\"0,-134.5 107,-134.5 \"/>\n",
       "<text text-anchor=\"middle\" x=\"53.5\" y=\"-119.3\" font-family=\"Times,serif\" font-size=\"14.00\">Data: 2.000</text>\n",
       "<polyline fill=\"none\" stroke=\"black\" points=\"0,-111.5 107,-111.5 \"/>\n",
       "<text text-anchor=\"middle\" x=\"53.5\" y=\"-96.3\" font-family=\"Times,serif\" font-size=\"14.00\">Gradient: &#45;1.000</text>\n",
       "</g>\n",
       "<!-- 138309533262960* -->\n",
       "<g id=\"node9\" class=\"node\">\n",
       "<title>138309533262960*</title>\n",
       "<ellipse fill=\"none\" stroke=\"black\" cx=\"170\" cy=\"-123\" rx=\"27\" ry=\"18\"/>\n",
       "<text text-anchor=\"middle\" x=\"170\" y=\"-119.3\" font-family=\"Times,serif\" font-size=\"14.00\">*</text>\n",
       "</g>\n",
       "<!-- 138309533261952&#45;&gt;138309533262960* -->\n",
       "<g id=\"edge11\" class=\"edge\">\n",
       "<title>138309533261952&#45;&gt;138309533262960*</title>\n",
       "<path fill=\"none\" stroke=\"black\" d=\"M107.06,-123C115.72,-123 124.53,-123 132.69,-123\"/>\n",
       "<polygon fill=\"black\" stroke=\"black\" points=\"132.96,-126.5 142.96,-123 132.96,-119.5 132.96,-126.5\"/>\n",
       "</g>\n",
       "<!-- 138309533265216 -->\n",
       "<g id=\"node7\" class=\"node\">\n",
       "<title>138309533265216</title>\n",
       "<polygon fill=\"none\" stroke=\"black\" points=\"2.5,-0.5 2.5,-69.5 104.5,-69.5 104.5,-0.5 2.5,-0.5\"/>\n",
       "<text text-anchor=\"middle\" x=\"53.5\" y=\"-54.3\" font-family=\"Times,serif\" font-size=\"14.00\">w1</text>\n",
       "<polyline fill=\"none\" stroke=\"black\" points=\"2.5,-46.5 104.5,-46.5 \"/>\n",
       "<text text-anchor=\"middle\" x=\"53.5\" y=\"-31.3\" font-family=\"Times,serif\" font-size=\"14.00\">Data: &#45;4.000</text>\n",
       "<polyline fill=\"none\" stroke=\"black\" points=\"2.5,-23.5 104.5,-23.5 \"/>\n",
       "<text text-anchor=\"middle\" x=\"53.5\" y=\"-8.3\" font-family=\"Times,serif\" font-size=\"14.00\">Gradient: 0.500</text>\n",
       "</g>\n",
       "<!-- 138309533265216&#45;&gt;138309533262960* -->\n",
       "<g id=\"edge13\" class=\"edge\">\n",
       "<title>138309533265216&#45;&gt;138309533262960*</title>\n",
       "<path fill=\"none\" stroke=\"black\" d=\"M99.42,-69.53C114.43,-81.06 130.63,-93.51 143.61,-103.49\"/>\n",
       "<polygon fill=\"black\" stroke=\"black\" points=\"141.57,-106.34 151.64,-109.65 145.84,-100.79 141.57,-106.34\"/>\n",
       "</g>\n",
       "<!-- 138309533262960 -->\n",
       "<g id=\"node8\" class=\"node\">\n",
       "<title>138309533262960</title>\n",
       "<polygon fill=\"none\" stroke=\"black\" points=\"233,-88.5 233,-157.5 335,-157.5 335,-88.5 233,-88.5\"/>\n",
       "<text text-anchor=\"middle\" x=\"284\" y=\"-142.3\" font-family=\"Times,serif\" font-size=\"14.00\">x1 * w1</text>\n",
       "<polyline fill=\"none\" stroke=\"black\" points=\"233,-134.5 335,-134.5 \"/>\n",
       "<text text-anchor=\"middle\" x=\"284\" y=\"-119.3\" font-family=\"Times,serif\" font-size=\"14.00\">Data: &#45;8.000</text>\n",
       "<polyline fill=\"none\" stroke=\"black\" points=\"233,-111.5 335,-111.5 \"/>\n",
       "<text text-anchor=\"middle\" x=\"284\" y=\"-96.3\" font-family=\"Times,serif\" font-size=\"14.00\">Gradient: 0.250</text>\n",
       "</g>\n",
       "<!-- 138309533262960&#45;&gt;138309533255136+ -->\n",
       "<g id=\"edge10\" class=\"edge\">\n",
       "<title>138309533262960&#45;&gt;138309533255136+</title>\n",
       "<path fill=\"none\" stroke=\"black\" d=\"M335.1,-142.68C345.2,-146.65 355.55,-150.72 364.83,-154.36\"/>\n",
       "<polygon fill=\"black\" stroke=\"black\" points=\"363.83,-157.73 374.42,-158.13 366.39,-151.21 363.83,-157.73\"/>\n",
       "</g>\n",
       "<!-- 138309533262960*&#45;&gt;138309533262960 -->\n",
       "<g id=\"edge2\" class=\"edge\">\n",
       "<title>138309533262960*&#45;&gt;138309533262960</title>\n",
       "<path fill=\"none\" stroke=\"black\" d=\"M197.26,-123C204.96,-123 213.73,-123 222.64,-123\"/>\n",
       "<polygon fill=\"black\" stroke=\"black\" points=\"222.71,-126.5 232.71,-123 222.71,-119.5 222.71,-126.5\"/>\n",
       "</g>\n",
       "<!-- 138309533255136 -->\n",
       "<g id=\"node10\" class=\"node\">\n",
       "<title>138309533255136</title>\n",
       "<polygon fill=\"none\" stroke=\"black\" points=\"461,-125 461,-209 563,-209 563,-125 461,-125\"/>\n",
       "<text text-anchor=\"middle\" x=\"512\" y=\"-193.8\" font-family=\"Times,serif\" font-size=\"14.00\">x1 * w1 + x2</text>\n",
       "<text text-anchor=\"middle\" x=\"512\" y=\"-178.8\" font-family=\"Times,serif\" font-size=\"14.00\">* w2</text>\n",
       "<polyline fill=\"none\" stroke=\"black\" points=\"461,-171 563,-171 \"/>\n",
       "<text text-anchor=\"middle\" x=\"512\" y=\"-155.8\" font-family=\"Times,serif\" font-size=\"14.00\">Data: &#45;5.000</text>\n",
       "<polyline fill=\"none\" stroke=\"black\" points=\"461,-148 563,-148 \"/>\n",
       "<text text-anchor=\"middle\" x=\"512\" y=\"-132.8\" font-family=\"Times,serif\" font-size=\"14.00\">Gradient: 0.250</text>\n",
       "</g>\n",
       "<!-- 138309533255136&#45;&gt;138309533259696+ -->\n",
       "<g id=\"edge6\" class=\"edge\">\n",
       "<title>138309533255136&#45;&gt;138309533259696+</title>\n",
       "<path fill=\"none\" stroke=\"black\" d=\"M563.1,-188.03C573.39,-192.34 583.95,-196.77 593.36,-200.72\"/>\n",
       "<polygon fill=\"black\" stroke=\"black\" points=\"592.13,-204 602.7,-204.64 594.84,-197.55 592.13,-204\"/>\n",
       "</g>\n",
       "<!-- 138309533255136+&#45;&gt;138309533255136 -->\n",
       "<g id=\"edge3\" class=\"edge\">\n",
       "<title>138309533255136+&#45;&gt;138309533255136</title>\n",
       "<path fill=\"none\" stroke=\"black\" d=\"M425.26,-167C432.96,-167 441.73,-167 450.64,-167\"/>\n",
       "<polygon fill=\"black\" stroke=\"black\" points=\"450.71,-170.5 460.71,-167 450.71,-163.5 450.71,-170.5\"/>\n",
       "</g>\n",
       "<!-- 138309533259696 -->\n",
       "<g id=\"node12\" class=\"node\">\n",
       "<title>138309533259696</title>\n",
       "<polygon fill=\"none\" stroke=\"black\" points=\"689,-172 689,-256 791,-256 791,-172 689,-172\"/>\n",
       "<text text-anchor=\"middle\" x=\"740\" y=\"-240.8\" font-family=\"Times,serif\" font-size=\"14.00\">x1 * w1 + x2</text>\n",
       "<text text-anchor=\"middle\" x=\"740\" y=\"-225.8\" font-family=\"Times,serif\" font-size=\"14.00\">* w2 + b</text>\n",
       "<polyline fill=\"none\" stroke=\"black\" points=\"689,-218 791,-218 \"/>\n",
       "<text text-anchor=\"middle\" x=\"740\" y=\"-202.8\" font-family=\"Times,serif\" font-size=\"14.00\">Data: 0.000</text>\n",
       "<polyline fill=\"none\" stroke=\"black\" points=\"689,-195 791,-195 \"/>\n",
       "<text text-anchor=\"middle\" x=\"740\" y=\"-179.8\" font-family=\"Times,serif\" font-size=\"14.00\">Gradient: 0.250</text>\n",
       "</g>\n",
       "<!-- 138309533260416sigmoid -->\n",
       "<g id=\"node15\" class=\"node\">\n",
       "<title>138309533260416sigmoid</title>\n",
       "<ellipse fill=\"none\" stroke=\"black\" cx=\"866.65\" cy=\"-214\" rx=\"39.79\" ry=\"18\"/>\n",
       "<text text-anchor=\"middle\" x=\"866.65\" y=\"-210.3\" font-family=\"Times,serif\" font-size=\"14.00\">sigmoid</text>\n",
       "</g>\n",
       "<!-- 138309533259696&#45;&gt;138309533260416sigmoid -->\n",
       "<g id=\"edge12\" class=\"edge\">\n",
       "<title>138309533259696&#45;&gt;138309533260416sigmoid</title>\n",
       "<path fill=\"none\" stroke=\"black\" d=\"M791.34,-214C799.61,-214 808.16,-214 816.4,-214\"/>\n",
       "<polygon fill=\"black\" stroke=\"black\" points=\"816.62,-217.5 826.62,-214 816.62,-210.5 816.62,-217.5\"/>\n",
       "</g>\n",
       "<!-- 138309533259696+&#45;&gt;138309533259696 -->\n",
       "<g id=\"edge4\" class=\"edge\">\n",
       "<title>138309533259696+&#45;&gt;138309533259696</title>\n",
       "<path fill=\"none\" stroke=\"black\" d=\"M653.26,-214C660.96,-214 669.73,-214 678.64,-214\"/>\n",
       "<polygon fill=\"black\" stroke=\"black\" points=\"678.71,-217.5 688.71,-214 678.71,-210.5 678.71,-217.5\"/>\n",
       "</g>\n",
       "<!-- 138309533260416 -->\n",
       "<g id=\"node14\" class=\"node\">\n",
       "<title>138309533260416</title>\n",
       "<polygon fill=\"none\" stroke=\"black\" points=\"942.29,-172 942.29,-256 1081.29,-256 1081.29,-172 942.29,-172\"/>\n",
       "<text text-anchor=\"middle\" x=\"1011.79\" y=\"-240.8\" font-family=\"Times,serif\" font-size=\"14.00\">sigmoid(x1 * w1 + x2</text>\n",
       "<text text-anchor=\"middle\" x=\"1011.79\" y=\"-225.8\" font-family=\"Times,serif\" font-size=\"14.00\">* w2 + b)</text>\n",
       "<polyline fill=\"none\" stroke=\"black\" points=\"942.29,-218 1081.29,-218 \"/>\n",
       "<text text-anchor=\"middle\" x=\"1011.79\" y=\"-202.8\" font-family=\"Times,serif\" font-size=\"14.00\">Data: 0.500</text>\n",
       "<polyline fill=\"none\" stroke=\"black\" points=\"942.29,-195 1081.29,-195 \"/>\n",
       "<text text-anchor=\"middle\" x=\"1011.79\" y=\"-179.8\" font-family=\"Times,serif\" font-size=\"14.00\">Gradient: 1.000</text>\n",
       "</g>\n",
       "<!-- 138309533260416sigmoid&#45;&gt;138309533260416 -->\n",
       "<g id=\"edge5\" class=\"edge\">\n",
       "<title>138309533260416sigmoid&#45;&gt;138309533260416</title>\n",
       "<path fill=\"none\" stroke=\"black\" d=\"M906.38,-214C914.45,-214 923.22,-214 932.14,-214\"/>\n",
       "<polygon fill=\"black\" stroke=\"black\" points=\"932.24,-217.5 942.24,-214 932.24,-210.5 932.24,-217.5\"/>\n",
       "</g>\n",
       "</g>\n",
       "</svg>\n"
      ],
      "text/plain": [
       "<graphviz.graphs.Digraph at 0x7dcab2997220>"
      ]
     },
     "execution_count": 7,
     "metadata": {},
     "output_type": "execute_result"
    }
   ],
   "source": [
    "x1, x2 = Tensor(2.0, 'x1'), Tensor(3.0, 'x2') # Inputs\n",
    "w1, w2 = Tensor(-4.0, 'w1'), Tensor(1.0, 'w2') # Weights\n",
    "b = Tensor(5.0, 'b') # Bias\n",
    "\n",
    "x1w1 = x1 * w1\n",
    "x2w2 = x2 * w2\n",
    "x1w1_plus_x2w2 = x1w1 + x2w2\n",
    "y = x1w1_plus_x2w2 + b\n",
    "z = y.sigmoid()\n",
    "\n",
    "z.backward()\n",
    "z.draw_computation_graph()"
   ]
  },
  {
   "cell_type": "code",
   "execution_count": null,
   "metadata": {
    "colab": {
     "base_uri": "https://localhost:8080/"
    },
    "id": "d7KbFig02z0E",
    "outputId": "09731cd4-25a1-48e9-b392-8470d3758f56"
   },
   "outputs": [
    {
     "name": "stdout",
     "output_type": "stream",
     "text": [
      "[x1] Data: 2.0, Gradient: -1.0\n",
      "[x2] Data: 3.0, Gradient: 0.25\n",
      "[w1] Data: -4.0, Gradient: 0.5\n",
      "[w2] Data: 1.0, Gradient: 0.75\n",
      "[b] Data: 5.0, Gradient: 0.25\n"
     ]
    }
   ],
   "source": [
    "# Compare the same computation in TensorFlow\n",
    "x1, x2 = tf.Variable(2.0, name='x1'), tf.Variable(3.0, name='x2')\n",
    "w1, w2 = tf.Variable(-4.0, name='w1'), tf.Variable(1.0, name='w2')\n",
    "b = tf.Variable(5.0, name='b')\n",
    "\n",
    "with tf.GradientTape() as tape:\n",
    "    z = tf.nn.sigmoid(x1 * w1 + x2 * w2 + b)\n",
    "\n",
    "gradients = tape.gradient(z, [x1, x2, w1, w2, b])\n",
    "for var, grad in zip([x1, x2, w1, w2, b], gradients):\n",
    "    print(f\"[{var.name.split(':')[0]}] Data: {var.numpy()}, Gradient: {grad.numpy()}\")"
   ]
  },
  {
   "cell_type": "markdown",
   "metadata": {
    "id": "x_Gfpzd3HTw6"
   },
   "source": [
    "### 🤔 What happens if not using the **Chain rule**?\n",
    "\n",
    " I will try to calculate this $\\frac{\\partial{L}}{\\partial{w}}$ 👇 **without chain rule**, where $L$ is loss function of a simple Logistic Regression model with binary cross-entropy.\n",
    "\n",
    " ![](https://global.discourse-cdn.com/dlai/original/3X/c/9/c957632c4a117392673bf62c8e7266ba52d96f5a.png)\n",
    "\n",
    "\n",
    "I know the following is not practical but I just want to strengthen my understanding by looking for a pure substitution method.\n",
    "\n",
    "⏳ These short equations took me 3 hours to achieve.\n",
    "\n",
    "$$\\eqalign{\n",
    "L &= -[y * ln(\\frac{1}{1 + e^{-(wx+b)}}) + (1 - y) * ln(1 - \\frac{1}{1 + e^{-(wx+b)}})] \\\\\n",
    "  &= -[y * ln(\\frac{1}{1 + e^{-(wx+b)}}) + (1 - y) * ln(\\frac{e^{-(wx+b)}}{1 + e^{-(wx+b)}})] \\\\\n",
    "}$$\n",
    "\n",
    "Now, we used the fact that $ln(\\frac{1}{1 + e^{-z}}) = -ln(1 + e^{-z})$ and $ln(\\frac{e^{-z}}{1 + e^{-z}}) = -z - ln(1 + e^{-z})$, where $z = wx+b$:\n",
    "\n",
    "$$\\eqalign{\n",
    "L &= -[-y * ln(1 + e^{-(wx+b)}) + (1 - y) * (-(wx+b) - ln(1 + e^{-(wx+b)}))] \\\\\n",
    "  &= -[-y * ln(1 + e^{-(wx+b)}) - (1 - y) * ln(1 + e^{-(wx+b)}) - (1 - y) * (wx+b)] \\\\\n",
    "  &= ln(1 + e^{-(wx+b)}) + (1 - y) * wx + (1 - y) * b] \\\\\n",
    "}$$\n",
    "\n",
    "Now, find $\\frac{\\partial{L}}{\\partial{w}}$:\n",
    "\n",
    "$$\\eqalign{\n",
    "\\frac{\\partial{L}}{\\partial{w}} &= \\frac{-x * e^{-(wx+b)}}{1 + e^{-(wx+b)}} + (1 - y) * x] \\\\\n",
    "  &= \\frac{-x * e^{-(wx+b)} + (1 - y) * x * (1 + e^{-(wx+b)})}{1 + e^{-(wx+b)}} \\\\\n",
    "  &= \\frac{-x * e^{-(wx+b)} + (1 - y) * x + (1 - y) * x * e^{-(wx+b)}}{1 + e^{-(wx+b)}} \\\\\n",
    "  &= \\frac{-xy * e^{-(wx+b)} + x - xy}{1 + e^{-(wx+b)}} \\\\\n",
    "  &= \\frac{-xy * (1 + e^{-(wx+b)}) + x}{1 + e^{-(wx+b)}} \\\\\n",
    "  &= -xy + \\frac{x}{1 + e^{-(wx+b)}} \\\\\n",
    "  &= (\\frac{1}{1 + e^{-(wx+b)}} - y) * x \\\\\n",
    "  &= (sigmoid(z) - y) * x\n",
    "}$$\n",
    "\n",
    "One note here is that this [Bernoulli∗\n",
    " cross-entropy loss](https://stats.stackexchange.com/questions/260505/should-i-use-a-categorical-cross-entropy-or-binary-cross-entropy-loss-for-binary) is a special case of categorical cross-entropy loss for $m=2$.\n",
    "\n",
    "$$\\eqalign{\n",
    "\\mathcal{L}(\\theta)\n",
    "&= -\\frac{1}{n}\\sum_{i=1}^n\\sum_{j=1}^m y_{ij}\\log(p_{ij}) \\\\\n",
    "&= -\\frac{1}{n}\\sum_{i=1}^n \\left[y_i \\log(p_i) + (1-y_i) \\log(1-p_i)\\right]\n",
    "}$$"
   ]
  },
  {
   "cell_type": "markdown",
   "metadata": {
    "id": "ZRCF9wJJxMSX"
   },
   "source": [
    "# Sequential Model (like `TensorFlow`)"
   ]
  },
  {
   "cell_type": "markdown",
   "metadata": {
    "id": "tJ9He3d9lG3C"
   },
   "source": [
    "<table>\n",
    "  <tr>\n",
    "    <td>\n",
    "        <video width=\"100%\" controls autoplay loop>\n",
    "            <source src=\"https://3b1b-posts.us-east-1.linodeobjects.com/content/lessons/2017/neural-networks/pixels-to-neurons.mp4\">\n",
    "        </video>\n",
    "    </td>\n",
    "    <td>\n",
    "        <img src=\"https://3b1b-posts.us-east-1.linodeobjects.com/content/lessons/2017/gradient-descent/weights-and-biases.png\" />\n",
    "    </td>\n",
    "  </tr>\n",
    "  <tr>\n",
    "    <td>\n",
    "        <img src=\"https://media.licdn.com/dms/image/D4D12AQElGrpg2NiisQ/article-cover_image-shrink_600_2000/0/1707688084849?e=2147483647&v=beta&t=iBiIxGUrle6a1mlTadU-0vWvyVjCxW7DBa5qXqK_Qa4\" />\n",
    "    </td>\n",
    "    <td>\n",
    "        <img src=\"https://raw.githubusercontent.com/greyhatguy007/Machine-Learning-Specialization-Coursera/1a6b6fc2851e6ab2d44f86b84db316a82a70e494/C1%20-%20Supervised%20Machine%20Learning%20-%20Regression%20and%20Classification/week1/Optional%20Labs/images/C1_W1_Lab03_lecture_slopes.PNG\" />\n",
    "    </td>\n",
    "  </tr>\n",
    "</table>"
   ]
  },
  {
   "cell_type": "code",
   "execution_count": null,
   "metadata": {
    "colab": {
     "base_uri": "https://localhost:8080/",
     "height": 145
    },
    "id": "eYWvrDZ32z0J",
    "outputId": "a995ca0d-821f-4e5b-b553-28b030bb702a"
   },
   "outputs": [
    {
     "data": {
      "text/html": [
       "<pre style=\"white-space:pre;overflow-x:auto;line-height:normal;font-family:Menlo,'DejaVu Sans Mono',consolas,'Courier New',monospace\"><span style=\"font-style: italic\">           Model Summary           </span>\n",
       "┏━━━━━━━━┳━━━━━━━━━━━━━━┳━━━━━━━━━┓\n",
       "┃<span style=\"color: #800080; text-decoration-color: #800080; font-weight: bold\"> Layer  </span>┃<span style=\"color: #800080; text-decoration-color: #800080; font-weight: bold\"> Output Shape </span>┃<span style=\"color: #800080; text-decoration-color: #800080; font-weight: bold\"> Param # </span>┃\n",
       "┡━━━━━━━━╇━━━━━━━━━━━━━━╇━━━━━━━━━┩\n",
       "│<span style=\"color: #008080; text-decoration-color: #008080\"> Dense0 </span>│<span style=\"color: #008000; text-decoration-color: #008000\">      2       </span>│<span style=\"color: #808000; text-decoration-color: #808000\">       6 </span>│\n",
       "│<span style=\"color: #008080; text-decoration-color: #008080\"> Dense1 </span>│<span style=\"color: #008000; text-decoration-color: #008000\">      1       </span>│<span style=\"color: #808000; text-decoration-color: #808000\">       3 </span>│\n",
       "└────────┴──────────────┴─────────┘\n",
       "</pre>\n"
      ],
      "text/plain": [
       "\u001b[3m           Model Summary           \u001b[0m\n",
       "┏━━━━━━━━┳━━━━━━━━━━━━━━┳━━━━━━━━━┓\n",
       "┃\u001b[1;35m \u001b[0m\u001b[1;35mLayer \u001b[0m\u001b[1;35m \u001b[0m┃\u001b[1;35m \u001b[0m\u001b[1;35mOutput Shape\u001b[0m\u001b[1;35m \u001b[0m┃\u001b[1;35m \u001b[0m\u001b[1;35mParam #\u001b[0m\u001b[1;35m \u001b[0m┃\n",
       "┡━━━━━━━━╇━━━━━━━━━━━━━━╇━━━━━━━━━┩\n",
       "│\u001b[36m \u001b[0m\u001b[36mDense0\u001b[0m\u001b[36m \u001b[0m│\u001b[32m \u001b[0m\u001b[32m     2      \u001b[0m\u001b[32m \u001b[0m│\u001b[33m \u001b[0m\u001b[33m      6\u001b[0m\u001b[33m \u001b[0m│\n",
       "│\u001b[36m \u001b[0m\u001b[36mDense1\u001b[0m\u001b[36m \u001b[0m│\u001b[32m \u001b[0m\u001b[32m     1      \u001b[0m\u001b[32m \u001b[0m│\u001b[33m \u001b[0m\u001b[33m      3\u001b[0m\u001b[33m \u001b[0m│\n",
       "└────────┴──────────────┴─────────┘\n"
      ]
     },
     "metadata": {},
     "output_type": "display_data"
    },
    {
     "data": {
      "text/html": [
       "<pre style=\"white-space:pre;overflow-x:auto;line-height:normal;font-family:Menlo,'DejaVu Sans Mono',consolas,'Courier New',monospace\"><span style=\"color: #008000; text-decoration-color: #008000; font-weight: bold\">Total params:</span> <span style=\"color: #008080; text-decoration-color: #008080; font-weight: bold\">9</span>\n",
       "</pre>\n"
      ],
      "text/plain": [
       "\u001b[1;32mTotal params:\u001b[0m \u001b[1;36m9\u001b[0m\n"
      ]
     },
     "metadata": {},
     "output_type": "display_data"
    }
   ],
   "source": [
    "inputs = [2.0, 3.0]\n",
    "model = Sequential([\n",
    "    Dense(2, 2, activation='relu', name='Dense0'),\n",
    "    Dense(2, 1, activation='sigmoid', name='Dense1')\n",
    "])\n",
    "model.summary()"
   ]
  },
  {
   "cell_type": "code",
   "execution_count": null,
   "metadata": {
    "colab": {
     "base_uri": "https://localhost:8080/",
     "height": 199
    },
    "id": "rngjzeLe2z0J",
    "outputId": "3601f412-4b8c-4a47-aa3b-23a7f702e28b"
   },
   "outputs": [
    {
     "data": {
      "text/html": [
       "<pre style=\"white-space:pre;overflow-x:auto;line-height:normal;font-family:Menlo,'DejaVu Sans Mono',consolas,'Courier New',monospace\"><span style=\"font-weight: bold\">Model: \"Sequential\"</span>\n",
       "</pre>\n"
      ],
      "text/plain": [
       "\u001b[1mModel: \"Sequential\"\u001b[0m\n"
      ]
     },
     "metadata": {},
     "output_type": "display_data"
    },
    {
     "data": {
      "text/html": [
       "<pre style=\"white-space:pre;overflow-x:auto;line-height:normal;font-family:Menlo,'DejaVu Sans Mono',consolas,'Courier New',monospace\">┏━━━━━━━━━━━━━━━━━━━━━━━━━━━━━━━━━━━━━━┳━━━━━━━━━━━━━━━━━━━━━━━━━━━━━┳━━━━━━━━━━━━━━━━━┓\n",
       "┃<span style=\"font-weight: bold\"> Layer (type)                         </span>┃<span style=\"font-weight: bold\"> Output Shape                </span>┃<span style=\"font-weight: bold\">         Param # </span>┃\n",
       "┡━━━━━━━━━━━━━━━━━━━━━━━━━━━━━━━━━━━━━━╇━━━━━━━━━━━━━━━━━━━━━━━━━━━━━╇━━━━━━━━━━━━━━━━━┩\n",
       "│ Dense0 (<span style=\"color: #0087ff; text-decoration-color: #0087ff\">Dense</span>)                       │ (<span style=\"color: #00d7ff; text-decoration-color: #00d7ff\">None</span>, <span style=\"color: #00af00; text-decoration-color: #00af00\">2</span>)                   │               <span style=\"color: #00af00; text-decoration-color: #00af00\">6</span> │\n",
       "├──────────────────────────────────────┼─────────────────────────────┼─────────────────┤\n",
       "│ Dense1 (<span style=\"color: #0087ff; text-decoration-color: #0087ff\">Dense</span>)                       │ (<span style=\"color: #00d7ff; text-decoration-color: #00d7ff\">None</span>, <span style=\"color: #00af00; text-decoration-color: #00af00\">1</span>)                   │               <span style=\"color: #00af00; text-decoration-color: #00af00\">3</span> │\n",
       "└──────────────────────────────────────┴─────────────────────────────┴─────────────────┘\n",
       "</pre>\n"
      ],
      "text/plain": [
       "┏━━━━━━━━━━━━━━━━━━━━━━━━━━━━━━━━━━━━━━┳━━━━━━━━━━━━━━━━━━━━━━━━━━━━━┳━━━━━━━━━━━━━━━━━┓\n",
       "┃\u001b[1m \u001b[0m\u001b[1mLayer (type)                        \u001b[0m\u001b[1m \u001b[0m┃\u001b[1m \u001b[0m\u001b[1mOutput Shape               \u001b[0m\u001b[1m \u001b[0m┃\u001b[1m \u001b[0m\u001b[1m        Param #\u001b[0m\u001b[1m \u001b[0m┃\n",
       "┡━━━━━━━━━━━━━━━━━━━━━━━━━━━━━━━━━━━━━━╇━━━━━━━━━━━━━━━━━━━━━━━━━━━━━╇━━━━━━━━━━━━━━━━━┩\n",
       "│ Dense0 (\u001b[38;5;33mDense\u001b[0m)                       │ (\u001b[38;5;45mNone\u001b[0m, \u001b[38;5;34m2\u001b[0m)                   │               \u001b[38;5;34m6\u001b[0m │\n",
       "├──────────────────────────────────────┼─────────────────────────────┼─────────────────┤\n",
       "│ Dense1 (\u001b[38;5;33mDense\u001b[0m)                       │ (\u001b[38;5;45mNone\u001b[0m, \u001b[38;5;34m1\u001b[0m)                   │               \u001b[38;5;34m3\u001b[0m │\n",
       "└──────────────────────────────────────┴─────────────────────────────┴─────────────────┘\n"
      ]
     },
     "metadata": {},
     "output_type": "display_data"
    },
    {
     "data": {
      "text/html": [
       "<pre style=\"white-space:pre;overflow-x:auto;line-height:normal;font-family:Menlo,'DejaVu Sans Mono',consolas,'Courier New',monospace\"><span style=\"font-weight: bold\"> Total params: </span><span style=\"color: #00af00; text-decoration-color: #00af00\">9</span> (36.00 B)\n",
       "</pre>\n"
      ],
      "text/plain": [
       "\u001b[1m Total params: \u001b[0m\u001b[38;5;34m9\u001b[0m (36.00 B)\n"
      ]
     },
     "metadata": {},
     "output_type": "display_data"
    },
    {
     "data": {
      "text/html": [
       "<pre style=\"white-space:pre;overflow-x:auto;line-height:normal;font-family:Menlo,'DejaVu Sans Mono',consolas,'Courier New',monospace\"><span style=\"font-weight: bold\"> Trainable params: </span><span style=\"color: #00af00; text-decoration-color: #00af00\">9</span> (36.00 B)\n",
       "</pre>\n"
      ],
      "text/plain": [
       "\u001b[1m Trainable params: \u001b[0m\u001b[38;5;34m9\u001b[0m (36.00 B)\n"
      ]
     },
     "metadata": {},
     "output_type": "display_data"
    },
    {
     "data": {
      "text/html": [
       "<pre style=\"white-space:pre;overflow-x:auto;line-height:normal;font-family:Menlo,'DejaVu Sans Mono',consolas,'Courier New',monospace\"><span style=\"font-weight: bold\"> Non-trainable params: </span><span style=\"color: #00af00; text-decoration-color: #00af00\">0</span> (0.00 B)\n",
       "</pre>\n"
      ],
      "text/plain": [
       "\u001b[1m Non-trainable params: \u001b[0m\u001b[38;5;34m0\u001b[0m (0.00 B)\n"
      ]
     },
     "metadata": {},
     "output_type": "display_data"
    }
   ],
   "source": [
    "# Compare the same computation in TensorFlow\n",
    "inputs = tf.constant([2.0, 3.0], name='inputs')\n",
    "model = tf.keras.Sequential([\n",
    "    tf.keras.Input(shape=(2,)),\n",
    "    tf.keras.layers.Dense(2, activation='relu', name='Dense0'),\n",
    "    tf.keras.layers.Dense(1, activation='sigmoid', name='Dense1')\n",
    "], name='Sequential')\n",
    "model.summary()"
   ]
  },
  {
   "cell_type": "markdown",
   "metadata": {
    "id": "z0dtrxv0x3Zg"
   },
   "source": [
    "# Experiments with Different Datasets"
   ]
  },
  {
   "cell_type": "markdown",
   "metadata": {
    "id": "SaXImJ0J2z0K"
   },
   "source": [
    "### Approximate the cubic function $y = 2x^3 + 3x^2 - 3x$"
   ]
  },
  {
   "cell_type": "code",
   "execution_count": null,
   "metadata": {
    "colab": {
     "base_uri": "https://localhost:8080/",
     "height": 166
    },
    "id": "WbOZ8mJ-2z0K",
    "outputId": "069dd57c-4f27-4529-ff81-e0014d9b8716"
   },
   "outputs": [
    {
     "data": {
      "text/html": [
       "<pre style=\"white-space:pre;overflow-x:auto;line-height:normal;font-family:Menlo,'DejaVu Sans Mono',consolas,'Courier New',monospace\"><span style=\"font-style: italic\">           Model Summary           </span>\n",
       "┏━━━━━━━━┳━━━━━━━━━━━━━━┳━━━━━━━━━┓\n",
       "┃<span style=\"color: #800080; text-decoration-color: #800080; font-weight: bold\"> Layer  </span>┃<span style=\"color: #800080; text-decoration-color: #800080; font-weight: bold\"> Output Shape </span>┃<span style=\"color: #800080; text-decoration-color: #800080; font-weight: bold\"> Param # </span>┃\n",
       "┡━━━━━━━━╇━━━━━━━━━━━━━━╇━━━━━━━━━┩\n",
       "│<span style=\"color: #008080; text-decoration-color: #008080\"> Dense0 </span>│<span style=\"color: #008000; text-decoration-color: #008000\">      4       </span>│<span style=\"color: #808000; text-decoration-color: #808000\">      16 </span>│\n",
       "│<span style=\"color: #008080; text-decoration-color: #008080\"> Dense1 </span>│<span style=\"color: #008000; text-decoration-color: #008000\">      3       </span>│<span style=\"color: #808000; text-decoration-color: #808000\">      15 </span>│\n",
       "│<span style=\"color: #008080; text-decoration-color: #008080\"> Dense2 </span>│<span style=\"color: #008000; text-decoration-color: #008000\">      1       </span>│<span style=\"color: #808000; text-decoration-color: #808000\">       4 </span>│\n",
       "└────────┴──────────────┴─────────┘\n",
       "</pre>\n"
      ],
      "text/plain": [
       "\u001b[3m           Model Summary           \u001b[0m\n",
       "┏━━━━━━━━┳━━━━━━━━━━━━━━┳━━━━━━━━━┓\n",
       "┃\u001b[1;35m \u001b[0m\u001b[1;35mLayer \u001b[0m\u001b[1;35m \u001b[0m┃\u001b[1;35m \u001b[0m\u001b[1;35mOutput Shape\u001b[0m\u001b[1;35m \u001b[0m┃\u001b[1;35m \u001b[0m\u001b[1;35mParam #\u001b[0m\u001b[1;35m \u001b[0m┃\n",
       "┡━━━━━━━━╇━━━━━━━━━━━━━━╇━━━━━━━━━┩\n",
       "│\u001b[36m \u001b[0m\u001b[36mDense0\u001b[0m\u001b[36m \u001b[0m│\u001b[32m \u001b[0m\u001b[32m     4      \u001b[0m\u001b[32m \u001b[0m│\u001b[33m \u001b[0m\u001b[33m     16\u001b[0m\u001b[33m \u001b[0m│\n",
       "│\u001b[36m \u001b[0m\u001b[36mDense1\u001b[0m\u001b[36m \u001b[0m│\u001b[32m \u001b[0m\u001b[32m     3      \u001b[0m\u001b[32m \u001b[0m│\u001b[33m \u001b[0m\u001b[33m     15\u001b[0m\u001b[33m \u001b[0m│\n",
       "│\u001b[36m \u001b[0m\u001b[36mDense2\u001b[0m\u001b[36m \u001b[0m│\u001b[32m \u001b[0m\u001b[32m     1      \u001b[0m\u001b[32m \u001b[0m│\u001b[33m \u001b[0m\u001b[33m      4\u001b[0m\u001b[33m \u001b[0m│\n",
       "└────────┴──────────────┴─────────┘\n"
      ]
     },
     "metadata": {},
     "output_type": "display_data"
    },
    {
     "data": {
      "text/html": [
       "<pre style=\"white-space:pre;overflow-x:auto;line-height:normal;font-family:Menlo,'DejaVu Sans Mono',consolas,'Courier New',monospace\"><span style=\"color: #008000; text-decoration-color: #008000; font-weight: bold\">Total params:</span> <span style=\"color: #008080; text-decoration-color: #008080; font-weight: bold\">35</span>\n",
       "</pre>\n"
      ],
      "text/plain": [
       "\u001b[1;32mTotal params:\u001b[0m \u001b[1;36m35\u001b[0m\n"
      ]
     },
     "metadata": {},
     "output_type": "display_data"
    }
   ],
   "source": [
    "model = Sequential([\n",
    "    Dense(3, 4, activation='relu', initializer=Initializers.he_uniform, name='Dense0'),\n",
    "    Dense(4, 3, activation='relu', initializer=Initializers.he_uniform, name='Dense1'),\n",
    "    Dense(3, 1, initializer=Initializers.he_uniform, name='Dense2')\n",
    "])\n",
    "model.summary()"
   ]
  },
  {
   "cell_type": "code",
   "execution_count": null,
   "metadata": {
    "colab": {
     "base_uri": "https://localhost:8080/",
     "height": 971
    },
    "id": "UizpzDjq2z0L",
    "outputId": "51b1ccf9-e4c5-4004-e9c3-6c001f38cc76"
   },
   "outputs": [
    {
     "name": "stdout",
     "output_type": "stream",
     "text": [
      "Mean Squared Error: 12.39359269427916\n",
      "True: 2.0, Pred: -0.949532302551144, Loss: 8.699740803792652\n",
      "True: 2.812000000000001, Pred: -0.949532302551144, Loss: 14.149125263135717\n",
      "True: 3.456000000000002, Pred: -0.9476815741027256, Loss: 19.392411406091878\n",
      "True: 3.9440000000000026, Pred: -0.8244871596981573, Loss: 22.738469792206224\n",
      "True: 4.288, Pred: -0.7234346897384607, Loss: 25.11447764951403\n",
      "True: 4.500000000000001, Pred: -0.7161137090634004, Loss: 27.20784222587916\n",
      "True: 4.5920000000000005, Pred: -0.760335843759737, Loss: 28.647498984395263\n",
      "True: 4.575999999999999, Pred: -0.7918888946394356, Loss: 28.814231185193368\n",
      "True: 4.463999999999999, Pred: -0.8353810452490682, Loss: 28.083439462745094\n",
      "True: 4.267999999999998, Pred: -0.9230975847150513, Loss: 26.947494134034415\n",
      "True: 3.9999999999999973, Pred: -0.9809048389582109, Loss: 24.809413014757297\n",
      "True: 3.6719999999999966, Pred: -1.0121823161154415, Loss: 21.941563970608588\n",
      "True: 3.295999999999996, Pred: -1.0203095243236402, Loss: 18.63052790976693\n",
      "True: 2.883999999999995, Pred: -1.0086659717196995, Loss: 15.152848367384435\n",
      "True: 2.447999999999994, Pred: -0.9806311664405161, Loss: 11.755511675487215\n",
      "True: 1.999999999999994, Pred: -0.9395846166229851, Loss: 8.641157718286468\n",
      "True: 1.5519999999999938, Pred: -0.8889058304040014, Loss: 5.9580212729002175\n",
      "True: 1.1159999999999937, Pred: -0.8319743159204604, Loss: 3.7946039354857612\n",
      "True: 0.7039999999999936, Pred: -0.7721695813092573, Loss: 2.1790766327827296\n",
      "True: 0.327999999999994, Pred: -0.7128711347072874, Loss: 1.0834127190668237\n",
      "True: -5.329070518200742e-15, Pred: -0.6574584842514457, Loss: 0.4322516585142015\n",
      "True: -0.26800000000000435, Pred: -0.9106014173478298, Loss: 0.4129365815774342\n",
      "True: -0.4640000000000031, Pred: -1.2224169389896038, Loss: 0.5751962533463557\n",
      "True: -0.5760000000000014, Pred: -1.4679897217463025, Loss: 0.7956456637010436\n",
      "True: -0.5919999999999992, Pred: -1.6748009522279195, Loss: 1.172457902145691\n",
      "True: -0.49999999999999667, Pred: -1.8381468983196867, Loss: 1.790637121482607\n",
      "True: -0.2879999999999936, Pred: -1.9533238279068357, Loss: 2.7733034517942974\n",
      "True: 0.056000000000010264, Pred: -2.015628008874599, Loss: 4.291642607153777\n",
      "True: 0.5440000000000138, Pred: -2.020355709108209, Loss: 6.575920202835936\n",
      "True: 1.1880000000000188, Pred: -1.8528750816679422, Loss: 9.24692126230913\n"
     ]
    },
    {
     "data": {
      "image/png": "[encoded data removed]",
      "text/plain": [
       "<Figure size 640x480 with 1 Axes>"
      ]
     },
     "metadata": {},
     "output_type": "display_data"
    }
   ],
   "source": [
    "X_train = [[2*x**3, 3*x**2, -3*x] for x in xs]\n",
    "y_train = [cubic_func(x) for x in xs]\n",
    "predictions = model.predict(X_train)\n",
    "\n",
    "print('Mean Squared Error:', losses.mse(y_train, predictions))\n",
    "for y, y_pred in zip(y_train, predictions):\n",
    "    print(f'True: {y}, Pred: {y_pred}, Loss: {(y - y_pred)**2}')\n",
    "\n",
    "plt.plot(xs, predictions, label='True')\n",
    "plt.show()"
   ]
  },
  {
   "cell_type": "code",
   "execution_count": null,
   "metadata": {
    "colab": {
     "base_uri": "https://localhost:8080/"
    },
    "id": "bitxQr4RDoQb",
    "outputId": "c8aa5dcd-9cbc-4e19-edd6-ebd41e26ed21"
   },
   "outputs": [
    {
     "name": "stderr",
     "output_type": "stream",
     "text": [
      "🚀 Epoch 1/100: 100%|██████████████████████████████| 1/1 [⏳00:00<00:00], loss=12.4, learning_rate=0.01\n",
      "🚀 Epoch 2/100: 100%|██████████████████████████████| 1/1 [⏳00:00<00:00], loss=11.7, learning_rate=0.02\n",
      "🚀 Epoch 3/100: 100%|██████████████████████████████| 1/1 [⏳00:00<00:00], loss=10.3, learning_rate=0.03\n",
      "🚀 Epoch 4/100: 100%|██████████████████████████████| 1/1 [⏳00:00<00:00], loss=8.41, learning_rate=0.04\n",
      "🚀 Epoch 5/100: 100%|██████████████████████████████| 1/1 [⏳00:00<00:00], loss=5.93, learning_rate=0.05\n",
      "🚀 Epoch 6/100: 100%|██████████████████████████████| 1/1 [⏳00:00<00:00], loss=3.07, learning_rate=0.0495\n",
      "🚀 Epoch 7/100: 100%|██████████████████████████████| 1/1 [⏳00:00<00:00], loss=1.01, learning_rate=0.049\n",
      "🚀 Epoch 8/100: 100%|██████████████████████████████| 1/1 [⏳00:00<00:00], loss=0.605, learning_rate=0.0484\n",
      "🚀 Epoch 9/100: 100%|██████████████████████████████| 1/1 [⏳00:00<00:00], loss=0.916, learning_rate=0.0479\n",
      "🚀 Epoch 10/100: 100%|██████████████████████████████| 1/1 [⏳00:00<00:00], loss=0.605, learning_rate=0.0474\n",
      "🚀 Epoch 11/100: 100%|██████████████████████████████| 1/1 [⏳00:00<00:00], loss=0.849, learning_rate=0.0469\n",
      "🚀 Epoch 12/100: 100%|██████████████████████████████| 1/1 [⏳00:00<00:00], loss=0.599, learning_rate=0.0464\n",
      "🚀 Epoch 13/100: 100%|██████████████████████████████| 1/1 [⏳00:00<00:00], loss=0.797, learning_rate=0.046\n",
      "🚀 Epoch 14/100: 100%|██████████████████████████████| 1/1 [⏳00:00<00:00], loss=0.592, learning_rate=0.0455\n",
      "🚀 Epoch 15/100: 100%|██████████████████████████████| 1/1 [⏳00:00<00:00], loss=0.753, learning_rate=0.045\n",
      "🚀 Epoch 16/100: 100%|██████████████████████████████| 1/1 [⏳00:00<00:00], loss=0.584, learning_rate=0.0445\n",
      "🚀 Epoch 17/100: 100%|██████████████████████████████| 1/1 [⏳00:00<00:00], loss=0.714, learning_rate=0.0441\n",
      "🚀 Epoch 18/100: 100%|██████████████████████████████| 1/1 [⏳00:00<00:00], loss=0.575, learning_rate=0.0436\n",
      "🚀 Epoch 19/100: 100%|██████████████████████████████| 1/1 [⏳00:00<00:00], loss=0.68, learning_rate=0.0431\n",
      "🚀 Epoch 20/100: 100%|██████████████████████████████| 1/1 [⏳00:00<00:00], loss=0.564, learning_rate=0.0427\n",
      "🚀 Epoch 21/100: 100%|██████████████████████████████| 1/1 [⏳00:00<00:00], loss=0.652, learning_rate=0.0422\n",
      "🚀 Epoch 22/100: 100%|██████████████████████████████| 1/1 [⏳00:00<00:00], loss=0.553, learning_rate=0.0418\n",
      "🚀 Epoch 23/100: 100%|██████████████████████████████| 1/1 [⏳00:00<00:00], loss=0.629, learning_rate=0.0414\n",
      "🚀 Epoch 24/100: 100%|██████████████████████████████| 1/1 [⏳00:00<00:00], loss=0.539, learning_rate=0.0409\n",
      "🚀 Epoch 25/100: 100%|██████████████████████████████| 1/1 [⏳00:00<00:00], loss=0.607, learning_rate=0.0405\n",
      "🚀 Epoch 26/100: 100%|██████████████████████████████| 1/1 [⏳00:00<00:00], loss=0.524, learning_rate=0.0401\n",
      "🚀 Epoch 27/100: 100%|██████████████████████████████| 1/1 [⏳00:00<00:00], loss=0.586, learning_rate=0.0397\n",
      "🚀 Epoch 28/100: 100%|██████████████████████████████| 1/1 [⏳00:00<00:00], loss=0.509, learning_rate=0.0392\n",
      "🚀 Epoch 29/100: 100%|██████████████████████████████| 1/1 [⏳00:00<00:00], loss=0.564, learning_rate=0.0388\n",
      "🚀 Epoch 30/100: 100%|██████████████████████████████| 1/1 [⏳00:00<00:00], loss=0.492, learning_rate=0.0384\n",
      "🚀 Epoch 31/100: 100%|██████████████████████████████| 1/1 [⏳00:00<00:00], loss=0.541, learning_rate=0.038\n",
      "🚀 Epoch 32/100: 100%|██████████████████████████████| 1/1 [⏳00:00<00:00], loss=0.476, learning_rate=0.0376\n",
      "🚀 Epoch 33/100: 100%|██████████████████████████████| 1/1 [⏳00:00<00:00], loss=0.518, learning_rate=0.0372\n",
      "🚀 Epoch 34/100: 100%|██████████████████████████████| 1/1 [⏳00:00<00:00], loss=0.459, learning_rate=0.0368\n",
      "🚀 Epoch 35/100: 100%|██████████████████████████████| 1/1 [⏳00:00<00:00], loss=0.499, learning_rate=0.0365\n",
      "🚀 Epoch 36/100: 100%|██████████████████████████████| 1/1 [⏳00:00<00:00], loss=0.442, learning_rate=0.0361\n",
      "🚀 Epoch 37/100: 100%|██████████████████████████████| 1/1 [⏳00:00<00:00], loss=0.475, learning_rate=0.0357\n",
      "🚀 Epoch 38/100: 100%|██████████████████████████████| 1/1 [⏳00:00<00:00], loss=0.424, learning_rate=0.0353\n",
      "🚀 Epoch 39/100: 100%|██████████████████████████████| 1/1 [⏳00:00<00:00], loss=0.446, learning_rate=0.0349\n",
      "🚀 Epoch 40/100: 100%|██████████████████████████████| 1/1 [⏳00:00<00:00], loss=0.405, learning_rate=0.0346\n",
      "🚀 Epoch 41/100: 100%|██████████████████████████████| 1/1 [⏳00:00<00:00], loss=0.419, learning_rate=0.0342\n",
      "🚀 Epoch 42/100: 100%|██████████████████████████████| 1/1 [⏳00:00<00:00], loss=0.384, learning_rate=0.0339\n",
      "🚀 Epoch 43/100: 100%|██████████████████████████████| 1/1 [⏳00:00<00:00], loss=0.39, learning_rate=0.0335\n",
      "🚀 Epoch 44/100: 100%|██████████████████████████████| 1/1 [⏳00:00<00:00], loss=0.362, learning_rate=0.0332\n",
      "🚀 Epoch 45/100: 100%|██████████████████████████████| 1/1 [⏳00:00<00:00], loss=0.349, learning_rate=0.0328\n",
      "🚀 Epoch 46/100: 100%|██████████████████████████████| 1/1 [⏳00:00<00:00], loss=0.339, learning_rate=0.0325\n",
      "🚀 Epoch 47/100: 100%|██████████████████████████████| 1/1 [⏳00:00<00:00], loss=0.308, learning_rate=0.0321\n",
      "🚀 Epoch 48/100: 100%|██████████████████████████████| 1/1 [⏳00:00<00:00], loss=0.314, learning_rate=0.0318\n",
      "🚀 Epoch 49/100: 100%|██████████████████████████████| 1/1 [⏳00:00<00:00], loss=0.268, learning_rate=0.0315\n",
      "🚀 Epoch 50/100: 100%|██████████████████████████████| 1/1 [⏳00:00<00:00], loss=0.289, learning_rate=0.0311\n",
      "🚀 Epoch 51/100: 100%|██████████████████████████████| 1/1 [⏳00:00<00:00], loss=0.244, learning_rate=0.0308\n",
      "🚀 Epoch 52/100: 100%|██████████████████████████████| 1/1 [⏳00:00<00:00], loss=0.268, learning_rate=0.0305\n",
      "🚀 Epoch 53/100: 100%|██████████████████████████████| 1/1 [⏳00:00<00:00], loss=0.221, learning_rate=0.0302\n",
      "🚀 Epoch 54/100: 100%|██████████████████████████████| 1/1 [⏳00:00<00:00], loss=0.25, learning_rate=0.0298\n",
      "🚀 Epoch 55/100: 100%|██████████████████████████████| 1/1 [⏳00:00<00:00], loss=0.199, learning_rate=0.0295\n",
      "🚀 Epoch 56/100: 100%|██████████████████████████████| 1/1 [⏳00:00<00:00], loss=0.232, learning_rate=0.0292\n",
      "🚀 Epoch 57/100: 100%|██████████████████████████████| 1/1 [⏳00:00<00:00], loss=0.185, learning_rate=0.0289\n",
      "🚀 Epoch 58/100: 100%|██████████████████████████████| 1/1 [⏳00:00<00:00], loss=0.218, learning_rate=0.0286\n",
      "🚀 Epoch 59/100: 100%|██████████████████████████████| 1/1 [⏳00:00<00:00], loss=0.18, learning_rate=0.0283\n",
      "🚀 Epoch 60/100: 100%|██████████████████████████████| 1/1 [⏳00:00<00:00], loss=0.202, learning_rate=0.028\n",
      "🚀 Epoch 61/100: 100%|██████████████████████████████| 1/1 [⏳00:00<00:00], loss=0.173, learning_rate=0.0277\n",
      "🚀 Epoch 62/100: 100%|██████████████████████████████| 1/1 [⏳00:00<00:00], loss=0.195, learning_rate=0.0274\n",
      "🚀 Epoch 63/100: 100%|██████████████████████████████| 1/1 [⏳00:00<00:00], loss=0.156, learning_rate=0.0271\n",
      "🚀 Epoch 64/100: 100%|██████████████████████████████| 1/1 [⏳00:00<00:00], loss=0.181, learning_rate=0.0269\n",
      "🚀 Epoch 65/100: 100%|██████████████████████████████| 1/1 [⏳00:00<00:00], loss=0.146, learning_rate=0.0266\n",
      "🚀 Epoch 66/100: 100%|██████████████████████████████| 1/1 [⏳00:00<00:00], loss=0.157, learning_rate=0.0263\n",
      "🚀 Epoch 67/100: 100%|██████████████████████████████| 1/1 [⏳00:00<00:00], loss=0.142, learning_rate=0.026\n",
      "🚀 Epoch 68/100: 100%|██████████████████████████████| 1/1 [⏳00:00<00:00], loss=0.156, learning_rate=0.0257\n",
      "🚀 Epoch 69/100: 100%|██████████████████████████████| 1/1 [⏳00:00<00:00], loss=0.128, learning_rate=0.0255\n",
      "🚀 Epoch 70/100: 100%|██████████████████████████████| 1/1 [⏳00:00<00:00], loss=0.135, learning_rate=0.0252\n",
      "🚀 Epoch 71/100: 100%|██████████████████████████████| 1/1 [⏳00:00<00:00], loss=0.136, learning_rate=0.0249\n",
      "🚀 Epoch 72/100: 100%|██████████████████████████████| 1/1 [⏳00:00<00:00], loss=0.134, learning_rate=0.0247\n",
      "🚀 Epoch 73/100: 100%|██████████████████████████████| 1/1 [⏳00:00<00:00], loss=0.127, learning_rate=0.0244\n",
      "🚀 Epoch 74/100: 100%|██████████████████████████████| 1/1 [⏳00:00<00:00], loss=0.128, learning_rate=0.0242\n",
      "🚀 Epoch 75/100: 100%|██████████████████████████████| 1/1 [⏳00:00<00:00], loss=0.121, learning_rate=0.0239\n",
      "🚀 Epoch 76/100: 100%|██████████████████████████████| 1/1 [⏳00:00<00:00], loss=0.122, learning_rate=0.0237\n",
      "🚀 Epoch 77/100: 100%|██████████████████████████████| 1/1 [⏳00:00<00:00], loss=0.115, learning_rate=0.0234\n",
      "🚀 Epoch 78/100: 100%|██████████████████████████████| 1/1 [⏳00:00<00:00], loss=0.117, learning_rate=0.0232\n",
      "🚀 Epoch 79/100: 100%|██████████████████████████████| 1/1 [⏳00:00<00:00], loss=0.11, learning_rate=0.0229\n",
      "🚀 Epoch 80/100: 100%|██████████████████████████████| 1/1 [⏳00:00<00:00], loss=0.112, learning_rate=0.0227\n",
      "🚀 Epoch 81/100: 100%|██████████████████████████████| 1/1 [⏳00:00<00:00], loss=0.105, learning_rate=0.0224\n",
      "🚀 Epoch 82/100: 100%|██████████████████████████████| 1/1 [⏳00:00<00:00], loss=0.107, learning_rate=0.0222\n",
      "🚀 Epoch 83/100: 100%|██████████████████████████████| 1/1 [⏳00:00<00:00], loss=0.0996, learning_rate=0.022\n",
      "🚀 Epoch 84/100: 100%|██████████████████████████████| 1/1 [⏳00:00<00:00], loss=0.102, learning_rate=0.0218\n",
      "🚀 Epoch 85/100: 100%|██████████████████████████████| 1/1 [⏳00:00<00:00], loss=0.0949, learning_rate=0.0215\n",
      "🚀 Epoch 86/100: 100%|██████████████████████████████| 1/1 [⏳00:00<00:00], loss=0.0967, learning_rate=0.0213\n",
      "🚀 Epoch 87/100: 100%|██████████████████████████████| 1/1 [⏳00:00<00:00], loss=0.0905, learning_rate=0.0211\n",
      "🚀 Epoch 88/100: 100%|██████████████████████████████| 1/1 [⏳00:00<00:00], loss=0.0911, learning_rate=0.0209\n",
      "🚀 Epoch 89/100: 100%|██████████████████████████████| 1/1 [⏳00:00<00:00], loss=0.0863, learning_rate=0.0206\n",
      "🚀 Epoch 90/100: 100%|██████████████████████████████| 1/1 [⏳00:00<00:00], loss=0.0856, learning_rate=0.0204\n",
      "🚀 Epoch 91/100: 100%|██████████████████████████████| 1/1 [⏳00:00<00:00], loss=0.0832, learning_rate=0.0202\n",
      "🚀 Epoch 92/100: 100%|██████████████████████████████| 1/1 [⏳00:00<00:00], loss=0.0807, learning_rate=0.02\n",
      "🚀 Epoch 93/100: 100%|██████████████████████████████| 1/1 [⏳00:00<00:00], loss=0.0789, learning_rate=0.0198\n",
      "🚀 Epoch 94/100: 100%|██████████████████████████████| 1/1 [⏳00:00<00:00], loss=0.079, learning_rate=0.0196\n",
      "🚀 Epoch 95/100: 100%|██████████████████████████████| 1/1 [⏳00:00<00:00], loss=0.0735, learning_rate=0.0194\n",
      "🚀 Epoch 96/100: 100%|██████████████████████████████| 1/1 [⏳00:00<00:00], loss=0.0717, learning_rate=0.0192\n",
      "🚀 Epoch 97/100: 100%|██████████████████████████████| 1/1 [⏳00:00<00:00], loss=0.0693, learning_rate=0.019\n",
      "🚀 Epoch 98/100: 100%|██████████████████████████████| 1/1 [⏳00:00<00:00], loss=0.0655, learning_rate=0.0188\n",
      "🚀 Epoch 99/100: 100%|██████████████████████████████| 1/1 [⏳00:00<00:00], loss=0.0642, learning_rate=0.0186\n",
      "🚀 Epoch 100/100: 100%|██████████████████████████████| 1/1 [⏳00:00<00:00], loss=0.0604, learning_rate=0.0184\n"
     ]
    }
   ],
   "source": [
    "epochs = 100\n",
    "lr_decay = WarmUpAndDecayScheduler(\n",
    "    initial_learning_rate=0.05, warmup_steps=5,\n",
    "    decay_steps=10, decay_rate=0.9\n",
    ")\n",
    "model.compile(loss=losses.mse)\n",
    "model.train(X_train, y_train, epochs=epochs, learning_rate=lr_decay, batch_size=len(X_train), clip_value=1)"
   ]
  },
  {
   "cell_type": "code",
   "execution_count": null,
   "metadata": {
    "colab": {
     "base_uri": "https://localhost:8080/",
     "height": 368
    },
    "id": "LYkLEdT22z0M",
    "outputId": "5e95195e-c5c1-406f-bcbb-1c1ed5259708"
   },
   "outputs": [
    {
     "data": {
      "image/png": "[encoded data removed]",
      "text/plain": [
       "<Figure size 1200x400 with 2 Axes>"
      ]
     },
     "metadata": {},
     "output_type": "display_data"
    }
   ],
   "source": [
    "plt.figure(figsize=(12, 4))\n",
    "plt.subplot(1, 2, 1)\n",
    "plt.plot(range(epochs), model.history['loss'], label='Loss')\n",
    "\n",
    "plt.subplot(1, 2, 2)\n",
    "predictions = model.predict(X_train)\n",
    "plt.plot(xs, predictions)\n",
    "plt.show()"
   ]
  },
  {
   "cell_type": "markdown",
   "metadata": {
    "id": "0Yf62zyI2z0M"
   },
   "source": [
    "### Training on Iris dataset"
   ]
  },
  {
   "cell_type": "code",
   "execution_count": null,
   "metadata": {
    "colab": {
     "base_uri": "https://localhost:8080/",
     "height": 258
    },
    "id": "qBuq2cLu2z0M",
    "outputId": "1d0aa024-f233-4e57-cfb1-0bf6ad2431c1"
   },
   "outputs": [
    {
     "name": "stdout",
     "output_type": "stream",
     "text": [
      "Training data shape: (150, 4)\n",
      "Training labels shape: (150,)\n",
      "Number of classes: 3\n"
     ]
    },
    {
     "data": {
      "application/vnd.google.colaboratory.intrinsic+json": {
       "summary": "{\n  \"name\": \"df\",\n  \"rows\": 150,\n  \"fields\": [\n    {\n      \"column\": \"sepal length (cm)\",\n      \"properties\": {\n        \"dtype\": \"number\",\n        \"std\": 0.8280661279778629,\n        \"min\": 4.3,\n        \"max\": 7.9,\n        \"num_unique_values\": 35,\n        \"samples\": [\n          6.2,\n          4.5,\n          5.6\n        ],\n        \"semantic_type\": \"\",\n        \"description\": \"\"\n      }\n    },\n    {\n      \"column\": \"sepal width (cm)\",\n      \"properties\": {\n        \"dtype\": \"number\",\n        \"std\": 0.435866284936698,\n        \"min\": 2.0,\n        \"max\": 4.4,\n        \"num_unique_values\": 23,\n        \"samples\": [\n          2.3,\n          4.0,\n          3.5\n        ],\n        \"semantic_type\": \"\",\n        \"description\": \"\"\n      }\n    },\n    {\n      \"column\": \"petal length (cm)\",\n      \"properties\": {\n        \"dtype\": \"number\",\n        \"std\": 1.7652982332594667,\n        \"min\": 1.0,\n        \"max\": 6.9,\n        \"num_unique_values\": 43,\n        \"samples\": [\n          6.7,\n          3.8,\n          3.7\n        ],\n        \"semantic_type\": \"\",\n        \"description\": \"\"\n      }\n    },\n    {\n      \"column\": \"petal width (cm)\",\n      \"properties\": {\n        \"dtype\": \"number\",\n        \"std\": 0.7622376689603465,\n        \"min\": 0.1,\n        \"max\": 2.5,\n        \"num_unique_values\": 22,\n        \"samples\": [\n          0.2,\n          1.2,\n          1.3\n        ],\n        \"semantic_type\": \"\",\n        \"description\": \"\"\n      }\n    },\n    {\n      \"column\": \"target\",\n      \"properties\": {\n        \"dtype\": \"category\",\n        \"num_unique_values\": 3,\n        \"samples\": [\n          \"setosa\",\n          \"versicolor\",\n          \"virginica\"\n        ],\n        \"semantic_type\": \"\",\n        \"description\": \"\"\n      }\n    }\n  ]\n}",
       "type": "dataframe",
       "variable_name": "df"
      },
      "text/html": [
       "\n",
       "  <div id=\"df-736b5c72-be09-49ea-8540-498a7dbf0887\" class=\"colab-df-container\">\n",
       "    <div>\n",
       "<style scoped>\n",
       "    .dataframe tbody tr th:only-of-type {\n",
       "        vertical-align: middle;\n",
       "    }\n",
       "\n",
       "    .dataframe tbody tr th {\n",
       "        vertical-align: top;\n",
       "    }\n",
       "\n",
       "    .dataframe thead th {\n",
       "        text-align: right;\n",
       "    }\n",
       "</style>\n",
       "<table border=\"1\" class=\"dataframe\">\n",
       "  <thead>\n",
       "    <tr style=\"text-align: right;\">\n",
       "      <th></th>\n",
       "      <th>sepal length (cm)</th>\n",
       "      <th>sepal width (cm)</th>\n",
       "      <th>petal length (cm)</th>\n",
       "      <th>petal width (cm)</th>\n",
       "      <th>target</th>\n",
       "    </tr>\n",
       "  </thead>\n",
       "  <tbody>\n",
       "    <tr>\n",
       "      <th>0</th>\n",
       "      <td>5.1</td>\n",
       "      <td>3.5</td>\n",
       "      <td>1.4</td>\n",
       "      <td>0.2</td>\n",
       "      <td>setosa</td>\n",
       "    </tr>\n",
       "    <tr>\n",
       "      <th>1</th>\n",
       "      <td>4.9</td>\n",
       "      <td>3.0</td>\n",
       "      <td>1.4</td>\n",
       "      <td>0.2</td>\n",
       "      <td>setosa</td>\n",
       "    </tr>\n",
       "    <tr>\n",
       "      <th>2</th>\n",
       "      <td>4.7</td>\n",
       "      <td>3.2</td>\n",
       "      <td>1.3</td>\n",
       "      <td>0.2</td>\n",
       "      <td>setosa</td>\n",
       "    </tr>\n",
       "    <tr>\n",
       "      <th>3</th>\n",
       "      <td>4.6</td>\n",
       "      <td>3.1</td>\n",
       "      <td>1.5</td>\n",
       "      <td>0.2</td>\n",
       "      <td>setosa</td>\n",
       "    </tr>\n",
       "    <tr>\n",
       "      <th>4</th>\n",
       "      <td>5.0</td>\n",
       "      <td>3.6</td>\n",
       "      <td>1.4</td>\n",
       "      <td>0.2</td>\n",
       "      <td>setosa</td>\n",
       "    </tr>\n",
       "  </tbody>\n",
       "</table>\n",
       "</div>\n",
       "    <div class=\"colab-df-buttons\">\n",
       "\n",
       "  <div class=\"colab-df-container\">\n",
       "    <button class=\"colab-df-convert\" onclick=\"convertToInteractive('df-736b5c72-be09-49ea-8540-498a7dbf0887')\"\n",
       "            title=\"Convert this dataframe to an interactive table.\"\n",
       "            style=\"display:none;\">\n",
       "\n",
       "  <svg xmlns=\"http://www.w3.org/2000/svg\" height=\"24px\" viewBox=\"0 -960 960 960\">\n",
       "    <path d=\"M120-120v-720h720v720H120Zm60-500h600v-160H180v160Zm220 220h160v-160H400v160Zm0 220h160v-160H400v160ZM180-400h160v-160H180v160Zm440 0h160v-160H620v160ZM180-180h160v-160H180v160Zm440 0h160v-160H620v160Z\"/>\n",
       "  </svg>\n",
       "    </button>\n",
       "\n",
       "  <style>\n",
       "    .colab-df-container {\n",
       "      display:flex;\n",
       "      gap: 12px;\n",
       "    }\n",
       "\n",
       "    .colab-df-convert {\n",
       "      background-color: #E8F0FE;\n",
       "      border: none;\n",
       "      border-radius: 50%;\n",
       "      cursor: pointer;\n",
       "      display: none;\n",
       "      fill: #1967D2;\n",
       "      height: 32px;\n",
       "      padding: 0 0 0 0;\n",
       "      width: 32px;\n",
       "    }\n",
       "\n",
       "    .colab-df-convert:hover {\n",
       "      background-color: #E2EBFA;\n",
       "      box-shadow: 0px 1px 2px rgba(60, 64, 67, 0.3), 0px 1px 3px 1px rgba(60, 64, 67, 0.15);\n",
       "      fill: #174EA6;\n",
       "    }\n",
       "\n",
       "    .colab-df-buttons div {\n",
       "      margin-bottom: 4px;\n",
       "    }\n",
       "\n",
       "    [theme=dark] .colab-df-convert {\n",
       "      background-color: #3B4455;\n",
       "      fill: #D2E3FC;\n",
       "    }\n",
       "\n",
       "    [theme=dark] .colab-df-convert:hover {\n",
       "      background-color: #434B5C;\n",
       "      box-shadow: 0px 1px 3px 1px rgba(0, 0, 0, 0.15);\n",
       "      filter: drop-shadow(0px 1px 2px rgba(0, 0, 0, 0.3));\n",
       "      fill: #FFFFFF;\n",
       "    }\n",
       "  </style>\n",
       "\n",
       "    <script>\n",
       "      const buttonEl =\n",
       "        document.querySelector('#df-736b5c72-be09-49ea-8540-498a7dbf0887 button.colab-df-convert');\n",
       "      buttonEl.style.display =\n",
       "        google.colab.kernel.accessAllowed ? 'block' : 'none';\n",
       "\n",
       "      async function convertToInteractive(key) {\n",
       "        const element = document.querySelector('#df-736b5c72-be09-49ea-8540-498a7dbf0887');\n",
       "        const dataTable =\n",
       "          await google.colab.kernel.invokeFunction('convertToInteractive',\n",
       "                                                    [key], {});\n",
       "        if (!dataTable) return;\n",
       "\n",
       "        const docLinkHtml = 'Like what you see? Visit the ' +\n",
       "          '<a target=\"_blank\" href=https://colab.research.google.com/notebooks/data_table.ipynb>data table notebook</a>'\n",
       "          + ' to learn more about interactive tables.';\n",
       "        element.innerHTML = '';\n",
       "        dataTable['output_type'] = 'display_data';\n",
       "        await google.colab.output.renderOutput(dataTable, element);\n",
       "        const docLink = document.createElement('div');\n",
       "        docLink.innerHTML = docLinkHtml;\n",
       "        element.appendChild(docLink);\n",
       "      }\n",
       "    </script>\n",
       "  </div>\n",
       "\n",
       "\n",
       "<div id=\"df-6554e0b1-bb37-42fb-9405-2341a09136a8\">\n",
       "  <button class=\"colab-df-quickchart\" onclick=\"quickchart('df-6554e0b1-bb37-42fb-9405-2341a09136a8')\"\n",
       "            title=\"Suggest charts\"\n",
       "            style=\"display:none;\">\n",
       "\n",
       "<svg xmlns=\"http://www.w3.org/2000/svg\" height=\"24px\"viewBox=\"0 0 24 24\"\n",
       "     width=\"24px\">\n",
       "    <g>\n",
       "        <path d=\"M19 3H5c-1.1 0-2 .9-2 2v14c0 1.1.9 2 2 2h14c1.1 0 2-.9 2-2V5c0-1.1-.9-2-2-2zM9 17H7v-7h2v7zm4 0h-2V7h2v10zm4 0h-2v-4h2v4z\"/>\n",
       "    </g>\n",
       "</svg>\n",
       "  </button>\n",
       "\n",
       "<style>\n",
       "  .colab-df-quickchart {\n",
       "      --bg-color: #E8F0FE;\n",
       "      --fill-color: #1967D2;\n",
       "      --hover-bg-color: #E2EBFA;\n",
       "      --hover-fill-color: #174EA6;\n",
       "      --disabled-fill-color: #AAA;\n",
       "      --disabled-bg-color: #DDD;\n",
       "  }\n",
       "\n",
       "  [theme=dark] .colab-df-quickchart {\n",
       "      --bg-color: #3B4455;\n",
       "      --fill-color: #D2E3FC;\n",
       "      --hover-bg-color: #434B5C;\n",
       "      --hover-fill-color: #FFFFFF;\n",
       "      --disabled-bg-color: #3B4455;\n",
       "      --disabled-fill-color: #666;\n",
       "  }\n",
       "\n",
       "  .colab-df-quickchart {\n",
       "    background-color: var(--bg-color);\n",
       "    border: none;\n",
       "    border-radius: 50%;\n",
       "    cursor: pointer;\n",
       "    display: none;\n",
       "    fill: var(--fill-color);\n",
       "    height: 32px;\n",
       "    padding: 0;\n",
       "    width: 32px;\n",
       "  }\n",
       "\n",
       "  .colab-df-quickchart:hover {\n",
       "    background-color: var(--hover-bg-color);\n",
       "    box-shadow: 0 1px 2px rgba(60, 64, 67, 0.3), 0 1px 3px 1px rgba(60, 64, 67, 0.15);\n",
       "    fill: var(--button-hover-fill-color);\n",
       "  }\n",
       "\n",
       "  .colab-df-quickchart-complete:disabled,\n",
       "  .colab-df-quickchart-complete:disabled:hover {\n",
       "    background-color: var(--disabled-bg-color);\n",
       "    fill: var(--disabled-fill-color);\n",
       "    box-shadow: none;\n",
       "  }\n",
       "\n",
       "  .colab-df-spinner {\n",
       "    border: 2px solid var(--fill-color);\n",
       "    border-color: transparent;\n",
       "    border-bottom-color: var(--fill-color);\n",
       "    animation:\n",
       "      spin 1s steps(1) infinite;\n",
       "  }\n",
       "\n",
       "  @keyframes spin {\n",
       "    0% {\n",
       "      border-color: transparent;\n",
       "      border-bottom-color: var(--fill-color);\n",
       "      border-left-color: var(--fill-color);\n",
       "    }\n",
       "    20% {\n",
       "      border-color: transparent;\n",
       "      border-left-color: var(--fill-color);\n",
       "      border-top-color: var(--fill-color);\n",
       "    }\n",
       "    30% {\n",
       "      border-color: transparent;\n",
       "      border-left-color: var(--fill-color);\n",
       "      border-top-color: var(--fill-color);\n",
       "      border-right-color: var(--fill-color);\n",
       "    }\n",
       "    40% {\n",
       "      border-color: transparent;\n",
       "      border-right-color: var(--fill-color);\n",
       "      border-top-color: var(--fill-color);\n",
       "    }\n",
       "    60% {\n",
       "      border-color: transparent;\n",
       "      border-right-color: var(--fill-color);\n",
       "    }\n",
       "    80% {\n",
       "      border-color: transparent;\n",
       "      border-right-color: var(--fill-color);\n",
       "      border-bottom-color: var(--fill-color);\n",
       "    }\n",
       "    90% {\n",
       "      border-color: transparent;\n",
       "      border-bottom-color: var(--fill-color);\n",
       "    }\n",
       "  }\n",
       "</style>\n",
       "\n",
       "  <script>\n",
       "    async function quickchart(key) {\n",
       "      const quickchartButtonEl =\n",
       "        document.querySelector('#' + key + ' button');\n",
       "      quickchartButtonEl.disabled = true;  // To prevent multiple clicks.\n",
       "      quickchartButtonEl.classList.add('colab-df-spinner');\n",
       "      try {\n",
       "        const charts = await google.colab.kernel.invokeFunction(\n",
       "            'suggestCharts', [key], {});\n",
       "      } catch (error) {\n",
       "        console.error('Error during call to suggestCharts:', error);\n",
       "      }\n",
       "      quickchartButtonEl.classList.remove('colab-df-spinner');\n",
       "      quickchartButtonEl.classList.add('colab-df-quickchart-complete');\n",
       "    }\n",
       "    (() => {\n",
       "      let quickchartButtonEl =\n",
       "        document.querySelector('#df-6554e0b1-bb37-42fb-9405-2341a09136a8 button');\n",
       "      quickchartButtonEl.style.display =\n",
       "        google.colab.kernel.accessAllowed ? 'block' : 'none';\n",
       "    })();\n",
       "  </script>\n",
       "</div>\n",
       "\n",
       "    </div>\n",
       "  </div>\n"
      ],
      "text/plain": [
       "   sepal length (cm)  sepal width (cm)  petal length (cm)  petal width (cm)  \\\n",
       "0                5.1               3.5                1.4               0.2   \n",
       "1                4.9               3.0                1.4               0.2   \n",
       "2                4.7               3.2                1.3               0.2   \n",
       "3                4.6               3.1                1.5               0.2   \n",
       "4                5.0               3.6                1.4               0.2   \n",
       "\n",
       "   target  \n",
       "0  setosa  \n",
       "1  setosa  \n",
       "2  setosa  \n",
       "3  setosa  \n",
       "4  setosa  "
      ]
     },
     "execution_count": 19,
     "metadata": {},
     "output_type": "execute_result"
    }
   ],
   "source": [
    "iris = load_iris()\n",
    "X, y = iris.data, iris.target\n",
    "feature_names, target_names = iris.feature_names, iris.target_names\n",
    "num_classes = len(set(iris.target))\n",
    "print(\n",
    "    f'Training data shape: {X.shape}\\n'\n",
    "    f'Training labels shape: {y.shape}\\n'\n",
    "    f'Number of classes: {num_classes}'\n",
    ")\n",
    "df = pd.DataFrame(X, columns=feature_names)\n",
    "df['target'] = y\n",
    "df['target'] = df['target'].map({idx: name for idx, name in enumerate(target_names)})\n",
    "df.head()"
   ]
  },
  {
   "cell_type": "code",
   "execution_count": null,
   "metadata": {
    "colab": {
     "base_uri": "https://localhost:8080/"
    },
    "id": "nw-XFllC2z0N",
    "outputId": "50388b0e-098b-4cb1-e5ad-4391549f8376"
   },
   "outputs": [
    {
     "name": "stdout",
     "output_type": "stream",
     "text": [
      "Training data shape: (120, 4)\n",
      "Training labels shape: (120,)\n",
      "Testing data shape: (30, 4)\n",
      "Testing labels shape: (30,)\n",
      "Number of classes: 3\n"
     ]
    }
   ],
   "source": [
    "scaler = StandardScaler()\n",
    "X_train, X_test, y_train, y_test = train_test_split(X, y, test_size=0.2)\n",
    "X_train = scaler.fit_transform(X_train)\n",
    "X_test = scaler.transform(X_test)\n",
    "y_train_onehot = np.eye(num_classes)[y_train] # One-hot encode the target labels\n",
    "print(\n",
    "    f'Training data shape: {X_train.shape}\\n'\n",
    "    f'Training labels shape: {y_train.shape}\\n'\n",
    "    f'Testing data shape: {X_test.shape}\\n'\n",
    "    f'Testing labels shape: {y_test.shape}\\n'\n",
    "    f'Number of classes: {num_classes}'\n",
    ")"
   ]
  },
  {
   "cell_type": "code",
   "execution_count": null,
   "metadata": {
    "colab": {
     "base_uri": "https://localhost:8080/",
     "height": 166
    },
    "id": "f52IxoND2z0N",
    "outputId": "dd31eaa0-9bff-4028-fe7e-f23d4948e5aa"
   },
   "outputs": [
    {
     "data": {
      "text/html": [
       "<pre style=\"white-space:pre;overflow-x:auto;line-height:normal;font-family:Menlo,'DejaVu Sans Mono',consolas,'Courier New',monospace\"><span style=\"font-style: italic\">           Model Summary           </span>\n",
       "┏━━━━━━━━┳━━━━━━━━━━━━━━┳━━━━━━━━━┓\n",
       "┃<span style=\"color: #800080; text-decoration-color: #800080; font-weight: bold\"> Layer  </span>┃<span style=\"color: #800080; text-decoration-color: #800080; font-weight: bold\"> Output Shape </span>┃<span style=\"color: #800080; text-decoration-color: #800080; font-weight: bold\"> Param # </span>┃\n",
       "┡━━━━━━━━╇━━━━━━━━━━━━━━╇━━━━━━━━━┩\n",
       "│<span style=\"color: #008080; text-decoration-color: #008080\"> Dense0 </span>│<span style=\"color: #008000; text-decoration-color: #008000\">      8       </span>│<span style=\"color: #808000; text-decoration-color: #808000\">      40 </span>│\n",
       "│<span style=\"color: #008080; text-decoration-color: #008080\"> Dense1 </span>│<span style=\"color: #008000; text-decoration-color: #008000\">      4       </span>│<span style=\"color: #808000; text-decoration-color: #808000\">      36 </span>│\n",
       "│<span style=\"color: #008080; text-decoration-color: #008080\"> Dense2 </span>│<span style=\"color: #008000; text-decoration-color: #008000\">      3       </span>│<span style=\"color: #808000; text-decoration-color: #808000\">      15 </span>│\n",
       "└────────┴──────────────┴─────────┘\n",
       "</pre>\n"
      ],
      "text/plain": [
       "\u001b[3m           Model Summary           \u001b[0m\n",
       "┏━━━━━━━━┳━━━━━━━━━━━━━━┳━━━━━━━━━┓\n",
       "┃\u001b[1;35m \u001b[0m\u001b[1;35mLayer \u001b[0m\u001b[1;35m \u001b[0m┃\u001b[1;35m \u001b[0m\u001b[1;35mOutput Shape\u001b[0m\u001b[1;35m \u001b[0m┃\u001b[1;35m \u001b[0m\u001b[1;35mParam #\u001b[0m\u001b[1;35m \u001b[0m┃\n",
       "┡━━━━━━━━╇━━━━━━━━━━━━━━╇━━━━━━━━━┩\n",
       "│\u001b[36m \u001b[0m\u001b[36mDense0\u001b[0m\u001b[36m \u001b[0m│\u001b[32m \u001b[0m\u001b[32m     8      \u001b[0m\u001b[32m \u001b[0m│\u001b[33m \u001b[0m\u001b[33m     40\u001b[0m\u001b[33m \u001b[0m│\n",
       "│\u001b[36m \u001b[0m\u001b[36mDense1\u001b[0m\u001b[36m \u001b[0m│\u001b[32m \u001b[0m\u001b[32m     4      \u001b[0m\u001b[32m \u001b[0m│\u001b[33m \u001b[0m\u001b[33m     36\u001b[0m\u001b[33m \u001b[0m│\n",
       "│\u001b[36m \u001b[0m\u001b[36mDense2\u001b[0m\u001b[36m \u001b[0m│\u001b[32m \u001b[0m\u001b[32m     3      \u001b[0m\u001b[32m \u001b[0m│\u001b[33m \u001b[0m\u001b[33m     15\u001b[0m\u001b[33m \u001b[0m│\n",
       "└────────┴──────────────┴─────────┘\n"
      ]
     },
     "metadata": {},
     "output_type": "display_data"
    },
    {
     "data": {
      "text/html": [
       "<pre style=\"white-space:pre;overflow-x:auto;line-height:normal;font-family:Menlo,'DejaVu Sans Mono',consolas,'Courier New',monospace\"><span style=\"color: #008000; text-decoration-color: #008000; font-weight: bold\">Total params:</span> <span style=\"color: #008080; text-decoration-color: #008080; font-weight: bold\">91</span>\n",
       "</pre>\n"
      ],
      "text/plain": [
       "\u001b[1;32mTotal params:\u001b[0m \u001b[1;36m91\u001b[0m\n"
      ]
     },
     "metadata": {},
     "output_type": "display_data"
    }
   ],
   "source": [
    "model = Sequential([\n",
    "    Dense(X_train.shape[-1], 8, activation='relu', initializer=Initializers.he_uniform, name='Dense0'),\n",
    "    Dense(8, 4, activation='relu', initializer=Initializers.he_uniform, name='Dense1'),\n",
    "    Dense(4, num_classes, activation='softmax', initializer=Initializers.he_uniform, name='Dense2')\n",
    "])\n",
    "model.summary()"
   ]
  },
  {
   "cell_type": "code",
   "execution_count": null,
   "metadata": {
    "colab": {
     "base_uri": "https://localhost:8080/"
    },
    "id": "UqtAZfUz2z0N",
    "outputId": "c28c7a71-3c9f-4f9c-ec70-4ea88fd207ef"
   },
   "outputs": [
    {
     "name": "stderr",
     "output_type": "stream",
     "text": [
      "🚀 Epoch 1/30: 100%|██████████████████████████████| 3/3 [⏳00:00<00:00], loss=1.21, accuracy=0.275, learning_rate=0.06\n",
      "🚀 Epoch 2/30: 100%|██████████████████████████████| 3/3 [⏳00:01<00:00], loss=0.919, accuracy=0.575, learning_rate=0.099\n",
      "🚀 Epoch 3/30: 100%|██████████████████████████████| 3/3 [⏳00:01<00:00], loss=0.753, accuracy=0.7, learning_rate=0.0959\n",
      "🚀 Epoch 4/30: 100%|██████████████████████████████| 3/3 [⏳00:01<00:00], loss=0.642, accuracy=0.775, learning_rate=0.0929\n",
      "🚀 Epoch 5/30: 100%|██████████████████████████████| 3/3 [⏳00:01<00:00], loss=0.558, accuracy=0.9, learning_rate=0.09\n",
      "🚀 Epoch 6/30: 100%|██████████████████████████████| 3/3 [⏳00:00<00:00], loss=0.492, accuracy=0.95, learning_rate=0.0872\n",
      "🚀 Epoch 7/30: 100%|██████████████████████████████| 3/3 [⏳00:01<00:00], loss=0.442, accuracy=0.95, learning_rate=0.0845\n",
      "🚀 Epoch 8/30: 100%|██████████████████████████████| 3/3 [⏳00:00<00:00], loss=0.403, accuracy=0.95, learning_rate=0.0819\n",
      "🚀 Epoch 9/30: 100%|██████████████████████████████| 3/3 [⏳00:01<00:00], loss=0.37, accuracy=0.95, learning_rate=0.0793\n",
      "🚀 Epoch 10/30: 100%|██████████████████████████████| 3/3 [⏳00:01<00:00], loss=0.342, accuracy=0.975, learning_rate=0.0768\n",
      "🚀 Epoch 11/30: 100%|██████████████████████████████| 3/3 [⏳00:00<00:00], loss=0.319, accuracy=0.975, learning_rate=0.0745\n",
      "🚀 Epoch 12/30: 100%|██████████████████████████████| 3/3 [⏳00:01<00:00], loss=0.3, accuracy=0.975, learning_rate=0.0721\n",
      "🚀 Epoch 13/30: 100%|██████████████████████████████| 3/3 [⏳00:01<00:00], loss=0.284, accuracy=0.975, learning_rate=0.0699\n",
      "🚀 Epoch 14/30: 100%|██████████████████████████████| 3/3 [⏳00:01<00:00], loss=0.27, accuracy=0.975, learning_rate=0.0677\n",
      "🚀 Epoch 15/30: 100%|██████████████████████████████| 3/3 [⏳00:01<00:00], loss=0.259, accuracy=0.975, learning_rate=0.0656\n",
      "🚀 Epoch 16/30: 100%|██████████████████████████████| 3/3 [⏳00:01<00:00], loss=0.25, accuracy=0.975, learning_rate=0.0636\n",
      "🚀 Epoch 17/30: 100%|██████████████████████████████| 3/3 [⏳00:00<00:00], loss=0.241, accuracy=0.975, learning_rate=0.0616\n",
      "🚀 Epoch 18/30: 100%|██████████████████████████████| 3/3 [⏳00:00<00:00], loss=0.234, accuracy=0.975, learning_rate=0.0597\n",
      "🚀 Epoch 19/30: 100%|██████████████████████████████| 3/3 [⏳00:01<00:00], loss=0.228, accuracy=0.975, learning_rate=0.0578\n",
      "🚀 Epoch 20/30: 100%|██████████████████████████████| 3/3 [⏳00:00<00:00], loss=0.222, accuracy=0.975, learning_rate=0.056\n",
      "🚀 Epoch 21/30: 100%|██████████████████████████████| 3/3 [⏳00:01<00:00], loss=0.217, accuracy=0.95, learning_rate=0.0543\n",
      "🚀 Epoch 22/30: 100%|██████████████████████████████| 3/3 [⏳00:00<00:00], loss=0.212, accuracy=0.95, learning_rate=0.0526\n",
      "🚀 Epoch 23/30: 100%|██████████████████████████████| 3/3 [⏳00:01<00:00], loss=0.208, accuracy=0.95, learning_rate=0.051\n",
      "🚀 Epoch 24/30: 100%|██████████████████████████████| 3/3 [⏳00:01<00:00], loss=0.204, accuracy=0.95, learning_rate=0.0494\n",
      "🚀 Epoch 25/30: 100%|██████████████████████████████| 3/3 [⏳00:01<00:00], loss=0.2, accuracy=0.95, learning_rate=0.0478\n",
      "🚀 Epoch 26/30: 100%|██████████████████████████████| 3/3 [⏳00:01<00:00], loss=0.197, accuracy=0.95, learning_rate=0.0463\n",
      "🚀 Epoch 27/30: 100%|██████████████████████████████| 3/3 [⏳00:00<00:00], loss=0.194, accuracy=0.95, learning_rate=0.0449\n",
      "🚀 Epoch 28/30: 100%|██████████████████████████████| 3/3 [⏳00:01<00:00], loss=0.191, accuracy=0.95, learning_rate=0.0435\n",
      "🚀 Epoch 29/30: 100%|██████████████████████████████| 3/3 [⏳00:00<00:00], loss=0.188, accuracy=0.95, learning_rate=0.0421\n",
      "🚀 Epoch 30/30: 100%|██████████████████████████████| 3/3 [⏳00:01<00:00], loss=0.186, accuracy=0.95, learning_rate=0.0408\n"
     ]
    }
   ],
   "source": [
    "epochs = 30\n",
    "batch_size = 40 # Divisible by X_train size\n",
    "lr_decay = WarmUpAndDecayScheduler(\n",
    "    initial_learning_rate=0.1, warmup_steps=5,\n",
    "    decay_steps=10, decay_rate=0.9\n",
    ")\n",
    "model.compile(loss=losses.categorical_crossentropy, metrics={'accuracy': metrics.accuracy})\n",
    "model.train(X_train, y_train_onehot, epochs=epochs, learning_rate=lr_decay, batch_size=batch_size)"
   ]
  },
  {
   "cell_type": "code",
   "execution_count": null,
   "metadata": {
    "colab": {
     "base_uri": "https://localhost:8080/",
     "height": 391
    },
    "id": "jXJnKcjB2z0O",
    "outputId": "105b2bf5-68d2-4ef2-c5c5-88ee159b072f"
   },
   "outputs": [
    {
     "data": {
      "image/png": "[encoded data removed]",
      "text/plain": [
       "<Figure size 1200x400 with 2 Axes>"
      ]
     },
     "metadata": {},
     "output_type": "display_data"
    }
   ],
   "source": [
    "steps_per_epoch = len(X_train) // batch_size\n",
    "epoch_losses = [model.history['loss'][i] for i in range(0, len(model.history['loss']), steps_per_epoch)]\n",
    "epoch_accuracies = [model.history['accuracy'][i] for i in range(0, len(model.history['accuracy']), steps_per_epoch)]\n",
    "\n",
    "plt.figure(figsize=(12, 4))\n",
    "plt.subplot(1, 2, 1)\n",
    "plt.plot(range(epochs), epoch_losses, label='Loss')\n",
    "plt.title('Training Loss')\n",
    "\n",
    "plt.subplot(1, 2, 2)\n",
    "plt.plot(range(epochs), epoch_accuracies, label='Accuracy')\n",
    "plt.title('Training Accuracy')\n",
    "plt.show()"
   ]
  },
  {
   "cell_type": "code",
   "execution_count": null,
   "metadata": {
    "colab": {
     "base_uri": "https://localhost:8080/"
    },
    "id": "dLMZEvmO2z0O",
    "outputId": "369a7eea-08d2-4780-8fb9-921be02950d0"
   },
   "outputs": [
    {
     "name": "stdout",
     "output_type": "stream",
     "text": [
      "Training classification report:\n",
      "              precision    recall  f1-score   support\n",
      "\n",
      "      setosa       1.00      1.00      1.00        41\n",
      "  versicolor       0.93      0.97      0.95        40\n",
      "   virginica       0.97      0.92      0.95        39\n",
      "\n",
      "    accuracy                           0.97       120\n",
      "   macro avg       0.97      0.97      0.97       120\n",
      "weighted avg       0.97      0.97      0.97       120\n",
      "\n"
     ]
    }
   ],
   "source": [
    "y_pred_train = model.predict(X_train)\n",
    "y_pred_train = np.argmax(y_pred_train, axis=1)\n",
    "print('Training classification report:')\n",
    "print(classification_report(y_train, y_pred_train, target_names=target_names))"
   ]
  },
  {
   "cell_type": "code",
   "execution_count": null,
   "metadata": {
    "colab": {
     "base_uri": "https://localhost:8080/"
    },
    "id": "ZBMrEwwHOq46",
    "outputId": "9eb0ce17-63a4-46d1-f9bb-f6c7e46039b5"
   },
   "outputs": [
    {
     "name": "stdout",
     "output_type": "stream",
     "text": [
      "Testing classification report:\n",
      "              precision    recall  f1-score   support\n",
      "\n",
      "      setosa       1.00      1.00      1.00         9\n",
      "  versicolor       0.83      1.00      0.91        10\n",
      "   virginica       1.00      0.82      0.90        11\n",
      "\n",
      "    accuracy                           0.93        30\n",
      "   macro avg       0.94      0.94      0.94        30\n",
      "weighted avg       0.94      0.93      0.93        30\n",
      "\n"
     ]
    }
   ],
   "source": [
    "y_pred_test = model.predict(X_test)\n",
    "y_pred_test = np.argmax(y_pred_test, axis=1)\n",
    "print('Testing classification report:')\n",
    "print(classification_report(y_test, y_pred_test, target_names=target_names))"
   ]
  },
  {
   "cell_type": "markdown",
   "metadata": {
    "id": "qYj41Uzr2z0P"
   },
   "source": [
    "### Training on Digits dataset\n",
    "\n",
    "👉 I have to purchase Colab Pro to run this with more memory"
   ]
  },
  {
   "cell_type": "code",
   "execution_count": null,
   "metadata": {
    "colab": {
     "base_uri": "https://localhost:8080/"
    },
    "id": "oqyOdlCg2z0Q",
    "outputId": "1c66f5ce-447f-47bc-83b4-1fdf854a0773"
   },
   "outputs": [
    {
     "name": "stdout",
     "output_type": "stream",
     "text": [
      "Training data shape: (1365, 64)\n",
      "Training labels shape: (1365,)\n",
      "Testing data shape: (432, 64)\n",
      "Testing labels shape: (432,)\n",
      "Number of classes: 10\n"
     ]
    }
   ],
   "source": [
    "digits = load_digits()\n",
    "X, y = digits.data, digits.target\n",
    "images = digits.images\n",
    "num_classes = len(set(digits.target))\n",
    "X_train, X_test, y_train, y_test = train_test_split(X, y, test_size=0.24) # 24% to make the number divisible\n",
    "\n",
    "scaler = StandardScaler()\n",
    "X_train = scaler.fit_transform(X_train)\n",
    "X_test = scaler.transform(X_test)\n",
    "y_train_onehot = np.eye(num_classes)[y_train]\n",
    "y_test_onehot = np.eye(num_classes)[y_test]\n",
    "\n",
    "print(\n",
    "    f'Training data shape: {X_train.shape}\\n'\n",
    "    f'Training labels shape: {y_train.shape}\\n'\n",
    "    f'Testing data shape: {X_test.shape}\\n'\n",
    "    f'Testing labels shape: {y_test.shape}\\n'\n",
    "    f'Number of classes: {num_classes}'\n",
    ")"
   ]
  },
  {
   "cell_type": "code",
   "execution_count": null,
   "metadata": {
    "colab": {
     "base_uri": "https://localhost:8080/",
     "height": 367
    },
    "id": "ovvk0Dc22z0R",
    "outputId": "464e87a8-cc82-4bba-b12e-5a69e5a80b57"
   },
   "outputs": [
    {
     "data": {
      "image/png": "[encoded data removed]",
      "text/plain": [
       "<Figure size 1200x400 with 10 Axes>"
      ]
     },
     "metadata": {},
     "output_type": "display_data"
    }
   ],
   "source": [
    "plt.figure(figsize=(12, 4))\n",
    "for idx, (image, label) in enumerate(zip(images[:10], y[:10])):\n",
    "    plt.subplot(2, 5, idx + 1)\n",
    "    plt.imshow(image, cmap='gray')\n",
    "    plt.title(f'Label: {label}')\n",
    "    plt.axis('off')"
   ]
  },
  {
   "cell_type": "code",
   "execution_count": null,
   "metadata": {
    "colab": {
     "base_uri": "https://localhost:8080/",
     "height": 150
    },
    "id": "Ai6STqC_2z0R",
    "outputId": "0659808f-873e-40aa-807c-d28313ded624"
   },
   "outputs": [
    {
     "data": {
      "text/html": [
       "<pre style=\"white-space:pre;overflow-x:auto;line-height:normal;font-family:Menlo,'DejaVu Sans Mono',consolas,'Courier New',monospace\"><span style=\"font-style: italic\">           Model Summary           </span>\n",
       "┏━━━━━━━━┳━━━━━━━━━━━━━━┳━━━━━━━━━┓\n",
       "┃<span style=\"color: #800080; text-decoration-color: #800080; font-weight: bold\"> Layer  </span>┃<span style=\"color: #800080; text-decoration-color: #800080; font-weight: bold\"> Output Shape </span>┃<span style=\"color: #800080; text-decoration-color: #800080; font-weight: bold\"> Param # </span>┃\n",
       "┡━━━━━━━━╇━━━━━━━━━━━━━━╇━━━━━━━━━┩\n",
       "│<span style=\"color: #008080; text-decoration-color: #008080\"> Dense0 </span>│<span style=\"color: #008000; text-decoration-color: #008000\">      10      </span>│<span style=\"color: #808000; text-decoration-color: #808000\">     650 </span>│\n",
       "│<span style=\"color: #008080; text-decoration-color: #008080\"> Dense1 </span>│<span style=\"color: #008000; text-decoration-color: #008000\">      10      </span>│<span style=\"color: #808000; text-decoration-color: #808000\">     110 </span>│\n",
       "└────────┴──────────────┴─────────┘\n",
       "</pre>\n"
      ],
      "text/plain": [
       "\u001b[3m           Model Summary           \u001b[0m\n",
       "┏━━━━━━━━┳━━━━━━━━━━━━━━┳━━━━━━━━━┓\n",
       "┃\u001b[1;35m \u001b[0m\u001b[1;35mLayer \u001b[0m\u001b[1;35m \u001b[0m┃\u001b[1;35m \u001b[0m\u001b[1;35mOutput Shape\u001b[0m\u001b[1;35m \u001b[0m┃\u001b[1;35m \u001b[0m\u001b[1;35mParam #\u001b[0m\u001b[1;35m \u001b[0m┃\n",
       "┡━━━━━━━━╇━━━━━━━━━━━━━━╇━━━━━━━━━┩\n",
       "│\u001b[36m \u001b[0m\u001b[36mDense0\u001b[0m\u001b[36m \u001b[0m│\u001b[32m \u001b[0m\u001b[32m     10     \u001b[0m\u001b[32m \u001b[0m│\u001b[33m \u001b[0m\u001b[33m    650\u001b[0m\u001b[33m \u001b[0m│\n",
       "│\u001b[36m \u001b[0m\u001b[36mDense1\u001b[0m\u001b[36m \u001b[0m│\u001b[32m \u001b[0m\u001b[32m     10     \u001b[0m\u001b[32m \u001b[0m│\u001b[33m \u001b[0m\u001b[33m    110\u001b[0m\u001b[33m \u001b[0m│\n",
       "└────────┴──────────────┴─────────┘\n"
      ]
     },
     "metadata": {},
     "output_type": "display_data"
    },
    {
     "data": {
      "text/html": [
       "<pre style=\"white-space:pre;overflow-x:auto;line-height:normal;font-family:Menlo,'DejaVu Sans Mono',consolas,'Courier New',monospace\"><span style=\"color: #008000; text-decoration-color: #008000; font-weight: bold\">Total params:</span> <span style=\"color: #008080; text-decoration-color: #008080; font-weight: bold\">760</span>\n",
       "</pre>\n"
      ],
      "text/plain": [
       "\u001b[1;32mTotal params:\u001b[0m \u001b[1;36m760\u001b[0m\n"
      ]
     },
     "metadata": {},
     "output_type": "display_data"
    }
   ],
   "source": [
    "model = Sequential([\n",
    "    Dense(X_train.shape[-1], 10, activation='relu', initializer=Initializers.he_uniform, name='Dense0'),\n",
    "    Dense(10, num_classes, activation='softmax', initializer=Initializers.he_uniform, name='Dense1')\n",
    "])\n",
    "model.summary()"
   ]
  },
  {
   "cell_type": "code",
   "execution_count": null,
   "metadata": {
    "colab": {
     "base_uri": "https://localhost:8080/"
    },
    "id": "KCTfNT6rxKEf",
    "outputId": "6fc6e27e-6530-4b86-f185-5bd6e196eebc"
   },
   "outputs": [
    {
     "name": "stderr",
     "output_type": "stream",
     "text": [
      "🚀 Epoch 1/5: 100%|██████████████████████████████| 65/65 [⏳03:18<00:00], loss=1.53, accuracy=0.429, learning_rate=0.05\n",
      "🚀 Epoch 2/5: 100%|██████████████████████████████| 65/65 [⏳03:21<00:00], loss=0.523, accuracy=0.857, learning_rate=0.1\n",
      "🚀 Epoch 3/5: 100%|██████████████████████████████| 65/65 [⏳03:21<00:00], loss=0.286, accuracy=0.905, learning_rate=0.09\n",
      "🚀 Epoch 4/5: 100%|██████████████████████████████| 65/65 [⏳03:19<00:00], loss=0.204, accuracy=0.905, learning_rate=0.081\n",
      "🚀 Epoch 5/5: 100%|██████████████████████████████| 65/65 [⏳03:20<00:00], loss=0.16, accuracy=0.952, learning_rate=0.0729\n"
     ]
    }
   ],
   "source": [
    "epochs = 5\n",
    "batch_size = 21\n",
    "steps_per_epoch = len(X_train) // batch_size\n",
    "lr_decay = WarmUpAndDecayScheduler(\n",
    "    initial_learning_rate = 0.1,\n",
    "    warmup_steps = 2 * steps_per_epoch, # 2 epochs\n",
    "    decay_steps = steps_per_epoch,\n",
    "    decay_rate = 0.9\n",
    ")\n",
    "model.compile(loss=losses.categorical_crossentropy, metrics={'accuracy': metrics.accuracy})\n",
    "model.train(X_train, y_train_onehot, epochs=epochs, learning_rate=lr_decay, batch_size=batch_size)"
   ]
  },
  {
   "cell_type": "code",
   "execution_count": null,
   "metadata": {
    "colab": {
     "base_uri": "https://localhost:8080/"
    },
    "id": "ZtM2KlMY3YQr",
    "outputId": "40ea3637-3a82-47f2-dfbb-b7c0bd563c2b"
   },
   "outputs": [
    {
     "name": "stdout",
     "output_type": "stream",
     "text": [
      "Training classification report:\n",
      "              precision    recall  f1-score   support\n",
      "\n",
      "           0       1.00      0.99      1.00       139\n",
      "           1       0.92      0.93      0.92       136\n",
      "           2       0.94      0.98      0.96       133\n",
      "           3       0.96      0.93      0.95       133\n",
      "           4       0.99      0.96      0.98       140\n",
      "           5       0.96      0.97      0.97       136\n",
      "           6       0.98      0.99      0.99       136\n",
      "           7       0.99      0.99      0.99       138\n",
      "           8       0.94      0.88      0.91       136\n",
      "           9       0.90      0.95      0.92       138\n",
      "\n",
      "    accuracy                           0.96      1365\n",
      "   macro avg       0.96      0.96      0.96      1365\n",
      "weighted avg       0.96      0.96      0.96      1365\n",
      "\n"
     ]
    }
   ],
   "source": [
    "y_pred_train = model.predict(X_train)\n",
    "y_pred_train = np.argmax(y_pred_train, axis=1)\n",
    "print('Training classification report:')\n",
    "print(classification_report(y_train, y_pred_train))"
   ]
  },
  {
   "cell_type": "code",
   "execution_count": null,
   "metadata": {
    "colab": {
     "base_uri": "https://localhost:8080/"
    },
    "id": "HqWdnSuN3ZPC",
    "outputId": "759dcb80-969a-45a2-e813-9370dfcfbbcb"
   },
   "outputs": [
    {
     "name": "stdout",
     "output_type": "stream",
     "text": [
      "Testing classification report:\n",
      "              precision    recall  f1-score   support\n",
      "\n",
      "           0       1.00      0.97      0.99        39\n",
      "           1       0.92      0.96      0.94        46\n",
      "           2       0.95      0.93      0.94        44\n",
      "           3       0.89      0.96      0.92        50\n",
      "           4       0.97      0.93      0.95        41\n",
      "           5       0.98      0.93      0.96        46\n",
      "           6       0.96      1.00      0.98        45\n",
      "           7       0.95      1.00      0.98        41\n",
      "           8       0.91      0.82      0.86        38\n",
      "           9       0.86      0.86      0.86        42\n",
      "\n",
      "    accuracy                           0.94       432\n",
      "   macro avg       0.94      0.94      0.94       432\n",
      "weighted avg       0.94      0.94      0.94       432\n",
      "\n"
     ]
    }
   ],
   "source": [
    "y_pred_test = model.predict(X_test)\n",
    "y_pred_test = np.argmax(y_pred_test, axis=1)\n",
    "print('Testing classification report:')\n",
    "print(classification_report(y_test, y_pred_test))"
   ]
  }
 ],
 "metadata": {
  "colab": {
   "machine_shape": "hm",
   "provenance": [],
   "toc_visible": true
  },
  "kernelspec": {
   "display_name": "Python 3",
   "name": "python3"
  },
  "language_info": {
   "codemirror_mode": {
    "name": "ipython",
    "version": 3
   },
   "file_extension": ".py",
   "mimetype": "text/x-python",
   "name": "python",
   "nbconvert_exporter": "python",
   "pygments_lexer": "ipython3",
   "version": "3.11.7"
  }
 },
 "nbformat": 4,
 "nbformat_minor": 0
}
